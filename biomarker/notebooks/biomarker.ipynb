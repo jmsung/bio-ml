{
 "cells": [
  {
   "cell_type": "markdown",
   "id": "fb730e62",
   "metadata": {},
   "source": [
    "# Build binary classifier to predict disease status from methylation biomarker "
   ]
  },
  {
   "cell_type": "code",
   "execution_count": 2,
   "id": "e560ed85",
   "metadata": {},
   "outputs": [],
   "source": [
    "import pandas as pd\n",
    "import numpy as np\n",
    "from sklearn.model_selection import train_test_split\n",
    "from sklearn.linear_model import LogisticRegression\n",
    "from sklearn.metrics import classification_report, roc_auc_score, roc_curve\n",
    "from matplotlib import pyplot as plt\n",
    "import matplotlib.patches as mpatches\n",
    "from scipy.stats import ttest_ind"
   ]
  },
  {
   "cell_type": "markdown",
   "id": "bfdbb792",
   "metadata": {},
   "source": [
    "# Data\n",
    "- `mock.tsv` contains methylation data from 150 individuals as follows:\n",
    "- A_xx, B_xx: methylation data from two orthogonal methods, e.g. A_0 is methylation measurement by method A at CpG site index 0. \n",
    "- Label: `1` (disease), `0` (no disease). There are 50 individuals with label 1 and 100 individuals with label 0.\n",
    "- Cohort: There are 3 cohort groups (`Aug`, `Jul`, `Mar`), each with 50 individuals\n",
    "- Cohort: Data from same cohort are from the same batch of experiment. All the data are from the identical biological population. Any differences between different Cohorts is not due to internal factor (e.g. health condition) but due to external factors (e.g. different experimental conditions or seasonal effect).   "
   ]
  },
  {
   "cell_type": "code",
   "execution_count": 3,
   "id": "c7067869",
   "metadata": {},
   "outputs": [
    {
     "ename": "FileNotFoundError",
     "evalue": "[Errno 2] No such file or directory: '../data/mock.tsv'",
     "output_type": "error",
     "traceback": [
      "\u001b[0;31m---------------------------------------------------------------------------\u001b[0m",
      "\u001b[0;31mFileNotFoundError\u001b[0m                         Traceback (most recent call last)",
      "Cell \u001b[0;32mIn[3], line 2\u001b[0m\n\u001b[1;32m      1\u001b[0m \u001b[38;5;66;03m# 1) Load your data\u001b[39;00m\n\u001b[0;32m----> 2\u001b[0m df \u001b[38;5;241m=\u001b[39m \u001b[43mpd\u001b[49m\u001b[38;5;241;43m.\u001b[39;49m\u001b[43mread_csv\u001b[49m\u001b[43m(\u001b[49m\u001b[38;5;124;43m'\u001b[39;49m\u001b[38;5;124;43m../data/mock.tsv\u001b[39;49m\u001b[38;5;124;43m'\u001b[39;49m\u001b[43m,\u001b[49m\u001b[43m \u001b[49m\u001b[43msep\u001b[49m\u001b[38;5;241;43m=\u001b[39;49m\u001b[38;5;124;43m'\u001b[39;49m\u001b[38;5;130;43;01m\\t\u001b[39;49;00m\u001b[38;5;124;43m'\u001b[39;49m\u001b[43m)\u001b[49m   \u001b[38;5;66;03m# or wherever your file lives\u001b[39;00m\n\u001b[1;32m      3\u001b[0m df\n",
      "File \u001b[0;32m~/miniconda3/envs/bio-ml/lib/python3.10/site-packages/pandas/io/parsers/readers.py:1026\u001b[0m, in \u001b[0;36mread_csv\u001b[0;34m(filepath_or_buffer, sep, delimiter, header, names, index_col, usecols, dtype, engine, converters, true_values, false_values, skipinitialspace, skiprows, skipfooter, nrows, na_values, keep_default_na, na_filter, verbose, skip_blank_lines, parse_dates, infer_datetime_format, keep_date_col, date_parser, date_format, dayfirst, cache_dates, iterator, chunksize, compression, thousands, decimal, lineterminator, quotechar, quoting, doublequote, escapechar, comment, encoding, encoding_errors, dialect, on_bad_lines, delim_whitespace, low_memory, memory_map, float_precision, storage_options, dtype_backend)\u001b[0m\n\u001b[1;32m   1013\u001b[0m kwds_defaults \u001b[38;5;241m=\u001b[39m _refine_defaults_read(\n\u001b[1;32m   1014\u001b[0m     dialect,\n\u001b[1;32m   1015\u001b[0m     delimiter,\n\u001b[0;32m   (...)\u001b[0m\n\u001b[1;32m   1022\u001b[0m     dtype_backend\u001b[38;5;241m=\u001b[39mdtype_backend,\n\u001b[1;32m   1023\u001b[0m )\n\u001b[1;32m   1024\u001b[0m kwds\u001b[38;5;241m.\u001b[39mupdate(kwds_defaults)\n\u001b[0;32m-> 1026\u001b[0m \u001b[38;5;28;01mreturn\u001b[39;00m \u001b[43m_read\u001b[49m\u001b[43m(\u001b[49m\u001b[43mfilepath_or_buffer\u001b[49m\u001b[43m,\u001b[49m\u001b[43m \u001b[49m\u001b[43mkwds\u001b[49m\u001b[43m)\u001b[49m\n",
      "File \u001b[0;32m~/miniconda3/envs/bio-ml/lib/python3.10/site-packages/pandas/io/parsers/readers.py:620\u001b[0m, in \u001b[0;36m_read\u001b[0;34m(filepath_or_buffer, kwds)\u001b[0m\n\u001b[1;32m    617\u001b[0m _validate_names(kwds\u001b[38;5;241m.\u001b[39mget(\u001b[38;5;124m\"\u001b[39m\u001b[38;5;124mnames\u001b[39m\u001b[38;5;124m\"\u001b[39m, \u001b[38;5;28;01mNone\u001b[39;00m))\n\u001b[1;32m    619\u001b[0m \u001b[38;5;66;03m# Create the parser.\u001b[39;00m\n\u001b[0;32m--> 620\u001b[0m parser \u001b[38;5;241m=\u001b[39m \u001b[43mTextFileReader\u001b[49m\u001b[43m(\u001b[49m\u001b[43mfilepath_or_buffer\u001b[49m\u001b[43m,\u001b[49m\u001b[43m \u001b[49m\u001b[38;5;241;43m*\u001b[39;49m\u001b[38;5;241;43m*\u001b[39;49m\u001b[43mkwds\u001b[49m\u001b[43m)\u001b[49m\n\u001b[1;32m    622\u001b[0m \u001b[38;5;28;01mif\u001b[39;00m chunksize \u001b[38;5;129;01mor\u001b[39;00m iterator:\n\u001b[1;32m    623\u001b[0m     \u001b[38;5;28;01mreturn\u001b[39;00m parser\n",
      "File \u001b[0;32m~/miniconda3/envs/bio-ml/lib/python3.10/site-packages/pandas/io/parsers/readers.py:1620\u001b[0m, in \u001b[0;36mTextFileReader.__init__\u001b[0;34m(self, f, engine, **kwds)\u001b[0m\n\u001b[1;32m   1617\u001b[0m     \u001b[38;5;28mself\u001b[39m\u001b[38;5;241m.\u001b[39moptions[\u001b[38;5;124m\"\u001b[39m\u001b[38;5;124mhas_index_names\u001b[39m\u001b[38;5;124m\"\u001b[39m] \u001b[38;5;241m=\u001b[39m kwds[\u001b[38;5;124m\"\u001b[39m\u001b[38;5;124mhas_index_names\u001b[39m\u001b[38;5;124m\"\u001b[39m]\n\u001b[1;32m   1619\u001b[0m \u001b[38;5;28mself\u001b[39m\u001b[38;5;241m.\u001b[39mhandles: IOHandles \u001b[38;5;241m|\u001b[39m \u001b[38;5;28;01mNone\u001b[39;00m \u001b[38;5;241m=\u001b[39m \u001b[38;5;28;01mNone\u001b[39;00m\n\u001b[0;32m-> 1620\u001b[0m \u001b[38;5;28mself\u001b[39m\u001b[38;5;241m.\u001b[39m_engine \u001b[38;5;241m=\u001b[39m \u001b[38;5;28;43mself\u001b[39;49m\u001b[38;5;241;43m.\u001b[39;49m\u001b[43m_make_engine\u001b[49m\u001b[43m(\u001b[49m\u001b[43mf\u001b[49m\u001b[43m,\u001b[49m\u001b[43m \u001b[49m\u001b[38;5;28;43mself\u001b[39;49m\u001b[38;5;241;43m.\u001b[39;49m\u001b[43mengine\u001b[49m\u001b[43m)\u001b[49m\n",
      "File \u001b[0;32m~/miniconda3/envs/bio-ml/lib/python3.10/site-packages/pandas/io/parsers/readers.py:1880\u001b[0m, in \u001b[0;36mTextFileReader._make_engine\u001b[0;34m(self, f, engine)\u001b[0m\n\u001b[1;32m   1878\u001b[0m     \u001b[38;5;28;01mif\u001b[39;00m \u001b[38;5;124m\"\u001b[39m\u001b[38;5;124mb\u001b[39m\u001b[38;5;124m\"\u001b[39m \u001b[38;5;129;01mnot\u001b[39;00m \u001b[38;5;129;01min\u001b[39;00m mode:\n\u001b[1;32m   1879\u001b[0m         mode \u001b[38;5;241m+\u001b[39m\u001b[38;5;241m=\u001b[39m \u001b[38;5;124m\"\u001b[39m\u001b[38;5;124mb\u001b[39m\u001b[38;5;124m\"\u001b[39m\n\u001b[0;32m-> 1880\u001b[0m \u001b[38;5;28mself\u001b[39m\u001b[38;5;241m.\u001b[39mhandles \u001b[38;5;241m=\u001b[39m \u001b[43mget_handle\u001b[49m\u001b[43m(\u001b[49m\n\u001b[1;32m   1881\u001b[0m \u001b[43m    \u001b[49m\u001b[43mf\u001b[49m\u001b[43m,\u001b[49m\n\u001b[1;32m   1882\u001b[0m \u001b[43m    \u001b[49m\u001b[43mmode\u001b[49m\u001b[43m,\u001b[49m\n\u001b[1;32m   1883\u001b[0m \u001b[43m    \u001b[49m\u001b[43mencoding\u001b[49m\u001b[38;5;241;43m=\u001b[39;49m\u001b[38;5;28;43mself\u001b[39;49m\u001b[38;5;241;43m.\u001b[39;49m\u001b[43moptions\u001b[49m\u001b[38;5;241;43m.\u001b[39;49m\u001b[43mget\u001b[49m\u001b[43m(\u001b[49m\u001b[38;5;124;43m\"\u001b[39;49m\u001b[38;5;124;43mencoding\u001b[39;49m\u001b[38;5;124;43m\"\u001b[39;49m\u001b[43m,\u001b[49m\u001b[43m \u001b[49m\u001b[38;5;28;43;01mNone\u001b[39;49;00m\u001b[43m)\u001b[49m\u001b[43m,\u001b[49m\n\u001b[1;32m   1884\u001b[0m \u001b[43m    \u001b[49m\u001b[43mcompression\u001b[49m\u001b[38;5;241;43m=\u001b[39;49m\u001b[38;5;28;43mself\u001b[39;49m\u001b[38;5;241;43m.\u001b[39;49m\u001b[43moptions\u001b[49m\u001b[38;5;241;43m.\u001b[39;49m\u001b[43mget\u001b[49m\u001b[43m(\u001b[49m\u001b[38;5;124;43m\"\u001b[39;49m\u001b[38;5;124;43mcompression\u001b[39;49m\u001b[38;5;124;43m\"\u001b[39;49m\u001b[43m,\u001b[49m\u001b[43m \u001b[49m\u001b[38;5;28;43;01mNone\u001b[39;49;00m\u001b[43m)\u001b[49m\u001b[43m,\u001b[49m\n\u001b[1;32m   1885\u001b[0m \u001b[43m    \u001b[49m\u001b[43mmemory_map\u001b[49m\u001b[38;5;241;43m=\u001b[39;49m\u001b[38;5;28;43mself\u001b[39;49m\u001b[38;5;241;43m.\u001b[39;49m\u001b[43moptions\u001b[49m\u001b[38;5;241;43m.\u001b[39;49m\u001b[43mget\u001b[49m\u001b[43m(\u001b[49m\u001b[38;5;124;43m\"\u001b[39;49m\u001b[38;5;124;43mmemory_map\u001b[39;49m\u001b[38;5;124;43m\"\u001b[39;49m\u001b[43m,\u001b[49m\u001b[43m \u001b[49m\u001b[38;5;28;43;01mFalse\u001b[39;49;00m\u001b[43m)\u001b[49m\u001b[43m,\u001b[49m\n\u001b[1;32m   1886\u001b[0m \u001b[43m    \u001b[49m\u001b[43mis_text\u001b[49m\u001b[38;5;241;43m=\u001b[39;49m\u001b[43mis_text\u001b[49m\u001b[43m,\u001b[49m\n\u001b[1;32m   1887\u001b[0m \u001b[43m    \u001b[49m\u001b[43merrors\u001b[49m\u001b[38;5;241;43m=\u001b[39;49m\u001b[38;5;28;43mself\u001b[39;49m\u001b[38;5;241;43m.\u001b[39;49m\u001b[43moptions\u001b[49m\u001b[38;5;241;43m.\u001b[39;49m\u001b[43mget\u001b[49m\u001b[43m(\u001b[49m\u001b[38;5;124;43m\"\u001b[39;49m\u001b[38;5;124;43mencoding_errors\u001b[39;49m\u001b[38;5;124;43m\"\u001b[39;49m\u001b[43m,\u001b[49m\u001b[43m \u001b[49m\u001b[38;5;124;43m\"\u001b[39;49m\u001b[38;5;124;43mstrict\u001b[39;49m\u001b[38;5;124;43m\"\u001b[39;49m\u001b[43m)\u001b[49m\u001b[43m,\u001b[49m\n\u001b[1;32m   1888\u001b[0m \u001b[43m    \u001b[49m\u001b[43mstorage_options\u001b[49m\u001b[38;5;241;43m=\u001b[39;49m\u001b[38;5;28;43mself\u001b[39;49m\u001b[38;5;241;43m.\u001b[39;49m\u001b[43moptions\u001b[49m\u001b[38;5;241;43m.\u001b[39;49m\u001b[43mget\u001b[49m\u001b[43m(\u001b[49m\u001b[38;5;124;43m\"\u001b[39;49m\u001b[38;5;124;43mstorage_options\u001b[39;49m\u001b[38;5;124;43m\"\u001b[39;49m\u001b[43m,\u001b[49m\u001b[43m \u001b[49m\u001b[38;5;28;43;01mNone\u001b[39;49;00m\u001b[43m)\u001b[49m\u001b[43m,\u001b[49m\n\u001b[1;32m   1889\u001b[0m \u001b[43m\u001b[49m\u001b[43m)\u001b[49m\n\u001b[1;32m   1890\u001b[0m \u001b[38;5;28;01massert\u001b[39;00m \u001b[38;5;28mself\u001b[39m\u001b[38;5;241m.\u001b[39mhandles \u001b[38;5;129;01mis\u001b[39;00m \u001b[38;5;129;01mnot\u001b[39;00m \u001b[38;5;28;01mNone\u001b[39;00m\n\u001b[1;32m   1891\u001b[0m f \u001b[38;5;241m=\u001b[39m \u001b[38;5;28mself\u001b[39m\u001b[38;5;241m.\u001b[39mhandles\u001b[38;5;241m.\u001b[39mhandle\n",
      "File \u001b[0;32m~/miniconda3/envs/bio-ml/lib/python3.10/site-packages/pandas/io/common.py:873\u001b[0m, in \u001b[0;36mget_handle\u001b[0;34m(path_or_buf, mode, encoding, compression, memory_map, is_text, errors, storage_options)\u001b[0m\n\u001b[1;32m    868\u001b[0m \u001b[38;5;28;01melif\u001b[39;00m \u001b[38;5;28misinstance\u001b[39m(handle, \u001b[38;5;28mstr\u001b[39m):\n\u001b[1;32m    869\u001b[0m     \u001b[38;5;66;03m# Check whether the filename is to be opened in binary mode.\u001b[39;00m\n\u001b[1;32m    870\u001b[0m     \u001b[38;5;66;03m# Binary mode does not support 'encoding' and 'newline'.\u001b[39;00m\n\u001b[1;32m    871\u001b[0m     \u001b[38;5;28;01mif\u001b[39;00m ioargs\u001b[38;5;241m.\u001b[39mencoding \u001b[38;5;129;01mand\u001b[39;00m \u001b[38;5;124m\"\u001b[39m\u001b[38;5;124mb\u001b[39m\u001b[38;5;124m\"\u001b[39m \u001b[38;5;129;01mnot\u001b[39;00m \u001b[38;5;129;01min\u001b[39;00m ioargs\u001b[38;5;241m.\u001b[39mmode:\n\u001b[1;32m    872\u001b[0m         \u001b[38;5;66;03m# Encoding\u001b[39;00m\n\u001b[0;32m--> 873\u001b[0m         handle \u001b[38;5;241m=\u001b[39m \u001b[38;5;28;43mopen\u001b[39;49m\u001b[43m(\u001b[49m\n\u001b[1;32m    874\u001b[0m \u001b[43m            \u001b[49m\u001b[43mhandle\u001b[49m\u001b[43m,\u001b[49m\n\u001b[1;32m    875\u001b[0m \u001b[43m            \u001b[49m\u001b[43mioargs\u001b[49m\u001b[38;5;241;43m.\u001b[39;49m\u001b[43mmode\u001b[49m\u001b[43m,\u001b[49m\n\u001b[1;32m    876\u001b[0m \u001b[43m            \u001b[49m\u001b[43mencoding\u001b[49m\u001b[38;5;241;43m=\u001b[39;49m\u001b[43mioargs\u001b[49m\u001b[38;5;241;43m.\u001b[39;49m\u001b[43mencoding\u001b[49m\u001b[43m,\u001b[49m\n\u001b[1;32m    877\u001b[0m \u001b[43m            \u001b[49m\u001b[43merrors\u001b[49m\u001b[38;5;241;43m=\u001b[39;49m\u001b[43merrors\u001b[49m\u001b[43m,\u001b[49m\n\u001b[1;32m    878\u001b[0m \u001b[43m            \u001b[49m\u001b[43mnewline\u001b[49m\u001b[38;5;241;43m=\u001b[39;49m\u001b[38;5;124;43m\"\u001b[39;49m\u001b[38;5;124;43m\"\u001b[39;49m\u001b[43m,\u001b[49m\n\u001b[1;32m    879\u001b[0m \u001b[43m        \u001b[49m\u001b[43m)\u001b[49m\n\u001b[1;32m    880\u001b[0m     \u001b[38;5;28;01melse\u001b[39;00m:\n\u001b[1;32m    881\u001b[0m         \u001b[38;5;66;03m# Binary mode\u001b[39;00m\n\u001b[1;32m    882\u001b[0m         handle \u001b[38;5;241m=\u001b[39m \u001b[38;5;28mopen\u001b[39m(handle, ioargs\u001b[38;5;241m.\u001b[39mmode)\n",
      "\u001b[0;31mFileNotFoundError\u001b[0m: [Errno 2] No such file or directory: '../data/mock.tsv'"
     ]
    }
   ],
   "source": [
    "# 1) Load your data\n",
    "df = pd.read_csv('../data/mock.tsv', sep='\\t')   # or wherever your file lives\n",
    "df"
   ]
  },
  {
   "cell_type": "code",
   "execution_count": null,
   "id": "21e9f9c5",
   "metadata": {},
   "outputs": [],
   "source": [
    "df.describe()"
   ]
  },
  {
   "cell_type": "code",
   "execution_count": null,
   "id": "97d9fb9b",
   "metadata": {},
   "outputs": [],
   "source": [
    "df.Cohort.unique()"
   ]
  },
  {
   "cell_type": "code",
   "execution_count": null,
   "id": "2f64e534",
   "metadata": {},
   "outputs": [],
   "source": [
    "for cohort in df['Cohort'].unique():\n",
    "    count = (df['Cohort'] == cohort).sum()\n",
    "    print(f\"Num of samples with Cohort == {cohort}: {count}\")\n",
    "\n",
    "print(f\"Num of sample with Label == 0 is {sum(df.Label==0)}\")\n",
    "print(f\"Num of sample with Label == 1 is {sum(df.Label==1)}\")    \n"
   ]
  },
  {
   "cell_type": "markdown",
   "id": "e9059bd6",
   "metadata": {},
   "source": [
    "# Compare singal level between label 1 vs label 0 for each feature\n",
    "* A47 looks significantly different between the two groups (label0 vs label1)"
   ]
  },
  {
   "cell_type": "code",
   "execution_count": null,
   "id": "112186aa",
   "metadata": {},
   "outputs": [],
   "source": [
    "# 1) Identify features & labels\n",
    "features_A = [c for c in df.columns if c.startswith('A_')]\n",
    "features_B = [c for c in df.columns if c.startswith('B_')]\n",
    "labels     = sorted(df['Label'].unique())\n",
    "\n",
    "# 2) Plot setup\n",
    "width = 0.35\n",
    "colors = {0: \"lightsteelblue\", 1: \"salmon\"}\n",
    "\n",
    "fig, axes = plt.subplots(2, 1, figsize=(20, 12), sharex=False)\n",
    "\n",
    "for ax, features, title in zip(axes,\n",
    "                               [features_A, features_B],\n",
    "                               ['A Features', 'B Features']):\n",
    "    x = np.arange(len(features))\n",
    "    for idx, label in enumerate(labels):\n",
    "        data = [df[df['Label'] == label][feat] for feat in features]\n",
    "        positions = x + (idx - 0.5) * width\n",
    "        bp = ax.boxplot(data, positions=positions, widths=width, patch_artist=True)\n",
    "        for box in bp['boxes']:\n",
    "            box.set_facecolor(colors[label])\n",
    "        for component in ('whiskers','caps','medians'):\n",
    "            for art in bp[component]:\n",
    "                art.set_color(colors[label] if component!='medians' else 'black')\n",
    "    ax.set_title(f'{title} by Label')\n",
    "    ax.set_xticks(x)\n",
    "    ax.set_xticklabels(features, rotation=90)\n",
    "    ax.set_ylabel('Methylation')\n",
    "\n",
    "# build one shared legend on the first subplot\n",
    "patches = [mpatches.Patch(color=colors[l], label=f'Label {l}') for l in labels]\n",
    "axes[0].legend(handles=patches, loc='upper right', title='Group')\n",
    "\n",
    "plt.tight_layout()\n",
    "plt.show()"
   ]
  },
  {
   "cell_type": "markdown",
   "id": "9a77a50a",
   "metadata": {},
   "source": [
    "# t-test to yield p-value between the two groups (label 0 vs label 1) per feature \n",
    "* A47 is the unique feature that is significantly different from group label 0 and label 1 with p-value ~ e(-18)"
   ]
  },
  {
   "cell_type": "code",
   "execution_count": null,
   "id": "6bee5de3",
   "metadata": {},
   "outputs": [],
   "source": [
    "# 2) Prepare subplots\n",
    "fig, axs = plt.subplots(2, 1, figsize=(20, 10), sharex=False)\n",
    "\n",
    "for ax, features, title in zip(\n",
    "    axs,\n",
    "    [features_A, features_B],\n",
    "    ['A Features: –log₁₀(p)', 'B Features: –log₁₀(p)']\n",
    "):\n",
    "    # compute p-values\n",
    "    pvals = []\n",
    "    for feat in features:\n",
    "        g0 = df.loc[df['Label'] == labels[0], feat].dropna()\n",
    "        g1 = df.loc[df['Label'] == labels[1], feat].dropna()\n",
    "        _, p = ttest_ind(g0, g1, equal_var=False)\n",
    "        pvals.append(p)\n",
    "    minus_log_p = -np.log10(pvals)\n",
    "\n",
    "    # scatter plot\n",
    "    x = np.arange(len(features))\n",
    "    ax.scatter(x, minus_log_p, color='black', s=25, zorder=5)\n",
    "\n",
    "    # formatting\n",
    "    ax.set_title(title)\n",
    "    ax.set_xticks(x)\n",
    "    ax.set_xticklabels(features, rotation=90, fontsize=8)\n",
    "    ax.set_ylabel(r'$-\\log_{10}(p\\text{-value})$')\n",
    "\n",
    "    # optional: mark significance threshold at p=0.01\n",
    "    sig_line = -np.log10(0.01)\n",
    "    ax.set_ylim(0, max(np.max(minus_log_p), sig_line) * 1.1)  # add a little headroom\n",
    "    ax.axhline(sig_line, color='red', linestyle='--', linewidth=1)\n",
    "    ax.text(0, sig_line * 1.02, 'p = 0.01', color='red', va='bottom')\n",
    "\n",
    "plt.tight_layout()\n",
    "plt.show()\n"
   ]
  },
  {
   "cell_type": "markdown",
   "id": "8b6c04d8",
   "metadata": {},
   "source": [
    "# A47 is a feature to differentiate label 0 vs label 1"
   ]
  },
  {
   "cell_type": "code",
   "execution_count": null,
   "id": "f3b047cd",
   "metadata": {},
   "outputs": [],
   "source": [
    "select_feature = 'A_47'"
   ]
  },
  {
   "cell_type": "code",
   "execution_count": null,
   "id": "6f5d5c61",
   "metadata": {},
   "outputs": [],
   "source": [
    "def plot_feature_vs_label(\n",
    "    df,\n",
    "    feature: str,\n",
    "    bins: int = 20,\n",
    "    colors: tuple = ('red', 'blue'),\n",
    "    figsize: tuple = (12, 5)\n",
    "):\n",
    "    \"\"\"\n",
    "    Compare the distribution of `feature` between Label=0 and Label=1:\n",
    "      1) jittered scatter of feature vs label\n",
    "      2) overlapping histograms\n",
    "    Annotates Welch’s t-test p-value.\n",
    "    \"\"\"\n",
    "    # Split out the two classes\n",
    "    x0 = df.loc[df['Label'] == 0, feature].dropna()\n",
    "    x1 = df.loc[df['Label'] == 1, feature].dropna()\n",
    "\n",
    "    # Welch’s t-test\n",
    "    _, pval = ttest_ind(x0, x1, equal_var=False)\n",
    "\n",
    "    # Build the subplots\n",
    "    fig, (ax_scatter, ax_hist) = plt.subplots(1, 2, figsize=figsize)\n",
    "\n",
    "    # Scatter (with vertical jitter)\n",
    "    jitter0 = np.random.uniform(-0.02, 0.02, size=len(x0))\n",
    "    jitter1 = np.random.uniform(-0.02, 0.02, size=len(x1))\n",
    "    ax_scatter.plot(x0, jitter0, '.', color=colors[0], alpha=0.6, label='Label=0')\n",
    "    ax_scatter.plot(x1, 1 + jitter1, '.', color=colors[1], alpha=0.6, label='Label=1')\n",
    "    ax_scatter.set_xlabel(feature)\n",
    "    ax_scatter.set_ylabel('Label')\n",
    "    ax_scatter.set_yticks([0, 1])\n",
    "    ax_scatter.set_yticklabels(['0', '1'])\n",
    "    ax_scatter.set_title(f'{feature} vs. Label (scatter)')\n",
    "    ax_scatter.legend()\n",
    "\n",
    "    # Overlapping histograms\n",
    "    ax_hist.hist(x0, bins=bins, alpha=0.6, color=colors[0], label='Label=0')\n",
    "    ax_hist.hist(x1, bins=bins, alpha=0.6, color=colors[1], label='Label=1')\n",
    "    ax_hist.set_xlabel(feature)\n",
    "    ax_hist.set_ylabel('Count')\n",
    "    ax_hist.set_title(f'Distribution of {feature} by Label')\n",
    "    ax_hist.legend()\n",
    "\n",
    "    # Annotate p-value\n",
    "    ax_hist.text(\n",
    "        0.95, 0.95, f\"p = {pval:.2e}\",\n",
    "        transform=ax_hist.transAxes,\n",
    "        ha='right', va='top',\n",
    "        fontsize=12,\n",
    "        bbox=dict(boxstyle=\"round,pad=0.3\", fc=\"white\", ec=\"black\", lw=0.5)\n",
    "    )\n",
    "\n",
    "    plt.tight_layout()\n",
    "    return fig, (ax_scatter, ax_hist)\n"
   ]
  },
  {
   "cell_type": "code",
   "execution_count": null,
   "id": "14e501d8",
   "metadata": {},
   "outputs": [],
   "source": [
    "fig, (ax1, ax2) = plot_feature_vs_label(df, select_feature)"
   ]
  },
  {
   "cell_type": "markdown",
   "id": "302ab1b5",
   "metadata": {},
   "source": [
    "# Logistic regression binary classifier with A_47\n",
    "* Logistic regression can be used as a quick test. \n",
    "* Test AUC-ROC: 0.870"
   ]
  },
  {
   "cell_type": "code",
   "execution_count": null,
   "id": "3dff656a",
   "metadata": {},
   "outputs": [],
   "source": [
    "def train_and_plot_lr(\n",
    "    df,\n",
    "    feature: str,\n",
    "    label: str = 'Label',\n",
    "    test_size: float = 0.2,\n",
    "    random_state: int = 42,\n",
    "    solver: str = 'liblinear',\n",
    "    figsize: tuple = (6, 4)\n",
    "):\n",
    "    \"\"\"\n",
    "    Train a 1-D logistic regression on df[[feature]] vs df[label],\n",
    "    print classification metrics, and plot the ROC curve.\n",
    "\n",
    "    Returns:\n",
    "        clf        : trained LogisticRegression\n",
    "        X_test     : feature DataFrame for test set\n",
    "        y_test     : labels for test set\n",
    "        y_proba    : predicted probability of class 1 on X_test\n",
    "    \"\"\"\n",
    "    # 1) Split off a hold-out test set\n",
    "    X = df[[feature]]\n",
    "    y = df[label]\n",
    "    X_train, X_test, y_train, y_test = train_test_split(\n",
    "        X, y,\n",
    "        test_size=test_size,\n",
    "        stratify=y,\n",
    "        random_state=random_state\n",
    "    )\n",
    "\n",
    "    # 2) Fit logistic regression\n",
    "    clf = LogisticRegression(solver=solver, random_state=random_state)\n",
    "    clf.fit(X_train, y_train)\n",
    "\n",
    "    # 3) Predict & print metrics\n",
    "    y_pred  = clf.predict(X_test)\n",
    "    y_proba = clf.predict_proba(X_test)[:, 1]\n",
    "    auc     = roc_auc_score(y_test, y_proba)\n",
    "\n",
    "    print(f\"Test AUC-ROC: {auc:.3f}\\n\")\n",
    "    print(\"Classification Report:\")\n",
    "    print(classification_report(y_test, y_pred))\n",
    "\n",
    "    # 4) Plot ROC curve\n",
    "    fpr, tpr, _ = roc_curve(y_test, y_proba)\n",
    "    plt.figure(figsize=figsize)\n",
    "    plt.plot(fpr, tpr, lw=2, label=f\"{feature} (AUC = {auc:.2f})\")\n",
    "    plt.plot([0,1],[0,1], 'k--', alpha=0.5)\n",
    "    plt.xlabel(\"False Positive Rate\")\n",
    "    plt.ylabel(\"True Positive Rate\")\n",
    "    plt.title(f\"ROC Curve for {feature}\")\n",
    "    plt.legend(loc=\"lower right\")\n",
    "    plt.grid(alpha=0.3)\n",
    "    plt.show()\n",
    "\n",
    "    return clf, X_test, y_test, y_proba"
   ]
  },
  {
   "cell_type": "code",
   "execution_count": null,
   "id": "57cb98ba",
   "metadata": {},
   "outputs": [],
   "source": [
    "clf, X_test, y_test, y_proba = train_and_plot_lr(df, feature='A_47')"
   ]
  },
  {
   "cell_type": "markdown",
   "id": "6238e71f",
   "metadata": {},
   "source": [
    "# There is a batch effect by cohort which can be eliminated by offset"
   ]
  },
  {
   "cell_type": "code",
   "execution_count": null,
   "id": "c1b26369",
   "metadata": {},
   "outputs": [],
   "source": [
    "def plot_feature_by_cohort_label(df, feature: str, cohorts=None, labels=(0, 1), width=0.6, figsize=(10, 6), colors=('lightsteelblue', 'salmon')\n",
    "):\n",
    "    \"\"\"\n",
    "    Plot boxplots of `feature` broken out by `cohorts` and `labels`.\n",
    "\n",
    "    Parameters:\n",
    "    -----------\n",
    "    df        : pandas.DataFrame\n",
    "        Your data containing `feature`, 'Cohort', and 'Label' columns.\n",
    "    feature   : str\n",
    "        Name of the numeric column to plot.\n",
    "    cohorts   : list-like, optional\n",
    "        Sequence of cohort names. Defaults to sorted unique values in df['Cohort'].\n",
    "    labels    : tuple of int, optional\n",
    "        The two label values to compare (default (0, 1)).\n",
    "    width     : float, optional\n",
    "        Width of each box.\n",
    "    figsize   : tuple, optional\n",
    "        Figure size.\n",
    "    colors    : tuple of str, optional\n",
    "        Two colors to alternate between labels.\n",
    "\n",
    "    Returns:\n",
    "    --------\n",
    "    fig, ax : matplotlib Figure and Axes\n",
    "    \"\"\"\n",
    "    if cohorts is None:\n",
    "        cohorts = sorted(df['Cohort'].unique())\n",
    "\n",
    "    # 1) Gather data and x-positions\n",
    "    data, positions, xticks = [], [], []\n",
    "    step = len(labels) + 1\n",
    "    for i, cohort in enumerate(cohorts):\n",
    "        for j, lab in enumerate(labels):\n",
    "            subset = df.loc[(df['Cohort']==cohort) & (df['Label']==lab), feature]\n",
    "            data.append(subset.dropna())\n",
    "            pos = i * step + j\n",
    "            positions.append(pos)\n",
    "            xticks.append(f\"{cohort}\\nLabel {lab}\")\n",
    "\n",
    "    # 2) Create boxplot\n",
    "    fig, ax = plt.subplots(figsize=figsize)\n",
    "    bp = ax.boxplot(data, positions=positions, widths=width, patch_artist=True)\n",
    "\n",
    "    # 3) Color boxes\n",
    "    box_colors = colors * len(cohorts)\n",
    "    for patch, col in zip(bp['boxes'], box_colors):\n",
    "        patch.set_facecolor(col)\n",
    "\n",
    "    # 4) Ticks and styling\n",
    "    ax.set_xticks(positions)\n",
    "    ax.set_xticklabels(xticks, rotation=45, ha='right')\n",
    "    ax.set_ylabel(feature)\n",
    "    ax.set_title(f\"{feature} by Cohort and Label\")\n",
    "    ax.axhline(0, color='gray', linewidth=0.8)\n",
    "\n",
    "    plt.tight_layout()\n",
    "    return fig, ax"
   ]
  },
  {
   "cell_type": "code",
   "execution_count": null,
   "id": "230ff33c",
   "metadata": {},
   "outputs": [],
   "source": [
    "fig, ax = plot_feature_by_cohort_label(df, select_feature)\n",
    "plt.show()\n"
   ]
  },
  {
   "cell_type": "markdown",
   "id": "b2022254",
   "metadata": {},
   "source": [
    "# Offset cohort effect \n",
    "* The trend between Label 0 vs Label 1 is consistent, but there is batch effect among different Cohort. \n",
    "* The cohort effect is adjusted by offset the mean per each cohort. "
   ]
  },
  {
   "cell_type": "code",
   "execution_count": null,
   "id": "108cb3de",
   "metadata": {},
   "outputs": [],
   "source": [
    "# 2) Create an adjusted column\n",
    "select_feature_adj = select_feature + '_cohort_adj'\n",
    "df[select_feature_adj] = df.groupby('Cohort')[select_feature].transform(lambda x: x - x.mean())"
   ]
  },
  {
   "cell_type": "code",
   "execution_count": null,
   "id": "ac4fcbb3",
   "metadata": {},
   "outputs": [],
   "source": [
    "fig, ax = plot_feature_by_cohort_label(df, select_feature_adj)\n",
    "plt.show()"
   ]
  },
  {
   "cell_type": "markdown",
   "id": "f8fb11a6",
   "metadata": {},
   "source": [
    "# Adjusted feature A_47 yields p-value ~ e-25"
   ]
  },
  {
   "cell_type": "code",
   "execution_count": null,
   "id": "f4718dc2",
   "metadata": {},
   "outputs": [],
   "source": [
    "fig, (ax1, ax2) = plot_feature_vs_label(df, select_feature_adj)"
   ]
  },
  {
   "cell_type": "markdown",
   "id": "d71f83da",
   "metadata": {},
   "source": [
    "# Logistic regression binary classifier with A_47_cohort_adj\n",
    "* Logistic regression by cohort adjusted A_47 yields Test AUC-ROC: 0.980"
   ]
  },
  {
   "cell_type": "code",
   "execution_count": null,
   "id": "c10083a9",
   "metadata": {},
   "outputs": [],
   "source": [
    "clf, X_test, y_test, y_proba = train_and_plot_lr(df, feature='A_47_cohort_adj')"
   ]
  },
  {
   "cell_type": "markdown",
   "id": "4791cdd6",
   "metadata": {},
   "source": [
    "# New Approach: Percentile Rank-Based Feature for Internal Adjustment\n",
    "- In practice, using a logistic regression trained on a single raw feature (A_47) may not generalize well across batches.  \n",
    "- For a new patient, we’d like to predict disease status from their feature set (A_xx, B_xx) using our trained classifier on A_47. But without cohort membership, we can’t compute a batch mean to normalize A_47, so batch effects remain uncorrected.  \n",
    "- Instead, we can convert each feature to its within-sample rank (or percentile) across all A_xx/B_xx values for that patient. Since batch effects shift raw values uniformly, the relative rank of A_47 should stay consistent regardless of cohort. This rank-based feature is thus internally adjusted for batch effects and more robust.\n"
   ]
  },
  {
   "cell_type": "code",
   "execution_count": null,
   "id": "a1ee2809",
   "metadata": {},
   "outputs": [],
   "source": [
    "# 2) Compute row-wise percentile ranks (0.0–1.0) across the A-block\n",
    "row_pct = df[features_A].rank(axis=1, pct=True)\n",
    "\n",
    "# 3) Extract A_47’s percentile into its own column\n",
    "df['A_47_rank_pct'] = row_pct['A_47'] * 100  # convert to percentage"
   ]
  },
  {
   "cell_type": "code",
   "execution_count": null,
   "id": "f5d7862d",
   "metadata": {},
   "outputs": [],
   "source": [
    "fig, (ax1, ax2) = plot_feature_vs_label(df, 'A_47_rank_pct')"
   ]
  },
  {
   "cell_type": "code",
   "execution_count": null,
   "id": "1ba95da5",
   "metadata": {},
   "outputs": [],
   "source": [
    "clf, X_test, y_test, y_proba = train_and_plot_lr(df, feature='A_47_rank_pct')"
   ]
  },
  {
   "cell_type": "markdown",
   "id": "44d70faa",
   "metadata": {},
   "source": [
    "# Conclusion\n",
    "\n",
    "- Using the within-patient percentile rank of **A_47** as the sole feature in a logistic regression classifier provides a robust prediction of disease status without requiring cohort information.  \n",
    "- The percentile ranks of **A_47** differ significantly between Label 0 and Label 1 groups (Welch’s t-test p ≈ 1 × 10⁻³⁵).  \n",
    "- This method achieves a test AUC-ROC of **0.985**."
   ]
  },
  {
   "cell_type": "code",
   "execution_count": null,
   "id": "86715e49",
   "metadata": {},
   "outputs": [],
   "source": []
  },
  {
   "cell_type": "code",
   "execution_count": null,
   "id": "ee7372ac",
   "metadata": {},
   "outputs": [],
   "source": []
  }
 ],
 "metadata": {
  "kernelspec": {
   "display_name": "bio-ml",
   "language": "python",
   "name": "python3"
  },
  "language_info": {
   "codemirror_mode": {
    "name": "ipython",
    "version": 3
   },
   "file_extension": ".py",
   "mimetype": "text/x-python",
   "name": "python",
   "nbconvert_exporter": "python",
   "pygments_lexer": "ipython3",
   "version": "3.10.9"
  }
 },
 "nbformat": 4,
 "nbformat_minor": 5
}
