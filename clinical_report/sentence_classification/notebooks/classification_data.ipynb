{
 "cells": [
  {
   "cell_type": "code",
   "execution_count": 48,
   "id": "d9127caf",
   "metadata": {},
   "outputs": [
    {
     "name": "stdout",
     "output_type": "stream",
     "text": [
      "True\n"
     ]
    }
   ],
   "source": [
    "import numpy as np\n",
    "import pandas as pd\n",
    "import torch\n",
    "import matplotlib.pyplot as plt\n",
    "import os\n",
    "\n",
    "from transformers import DistilBertTokenizerFast, DistilBertForSequenceClassification, Trainer, TrainingArguments\n",
    "from datasets import Dataset\n",
    "\n",
    "from sklearn.model_selection import train_test_split\n",
    "from sklearn.preprocessing import LabelEncoder, label_binarize\n",
    "from sklearn.metrics import accuracy_score, f1_score, classification_report, roc_curve, auc, roc_auc_score\n",
    "from scipy.special import softmax\n",
    "\n",
    "# Verify MPS (Apple Silicon GPU) availability\n",
    "print(torch.backends.mps.is_available())  # should be True on M-series\n"
   ]
  },
  {
   "cell_type": "code",
   "execution_count": 49,
   "id": "b28c79d6",
   "metadata": {},
   "outputs": [
    {
     "data": {
      "text/html": [
       "<div>\n",
       "<style scoped>\n",
       "    .dataframe tbody tr th:only-of-type {\n",
       "        vertical-align: middle;\n",
       "    }\n",
       "\n",
       "    .dataframe tbody tr th {\n",
       "        vertical-align: top;\n",
       "    }\n",
       "\n",
       "    .dataframe thead th {\n",
       "        text-align: right;\n",
       "    }\n",
       "</style>\n",
       "<table border=\"1\" class=\"dataframe\">\n",
       "  <thead>\n",
       "    <tr style=\"text-align: right;\">\n",
       "      <th></th>\n",
       "      <th>id</th>\n",
       "      <th>text</th>\n",
       "      <th>label</th>\n",
       "    </tr>\n",
       "  </thead>\n",
       "  <tbody>\n",
       "    <tr>\n",
       "      <th>0</th>\n",
       "      <td>1</td>\n",
       "      <td>DrugZ caused severe rashes in some participants.</td>\n",
       "      <td>Adverse Effect</td>\n",
       "    </tr>\n",
       "    <tr>\n",
       "      <th>1</th>\n",
       "      <td>2</td>\n",
       "      <td>No significant side effects were observed duri...</td>\n",
       "      <td>Positive Outcome</td>\n",
       "    </tr>\n",
       "    <tr>\n",
       "      <th>2</th>\n",
       "      <td>3</td>\n",
       "      <td>Participants were monitored every two weeks.</td>\n",
       "      <td>Neutral Observation</td>\n",
       "    </tr>\n",
       "    <tr>\n",
       "      <th>3</th>\n",
       "      <td>4</td>\n",
       "      <td>Increased liver enzymes were noted post-treatm...</td>\n",
       "      <td>Adverse Effect</td>\n",
       "    </tr>\n",
       "    <tr>\n",
       "      <th>4</th>\n",
       "      <td>5</td>\n",
       "      <td>Patients were instructed to maintain a food di...</td>\n",
       "      <td>Neutral Observation</td>\n",
       "    </tr>\n",
       "  </tbody>\n",
       "</table>\n",
       "</div>"
      ],
      "text/plain": [
       "   id                                               text                label\n",
       "0   1   DrugZ caused severe rashes in some participants.       Adverse Effect\n",
       "1   2  No significant side effects were observed duri...     Positive Outcome\n",
       "2   3       Participants were monitored every two weeks.  Neutral Observation\n",
       "3   4  Increased liver enzymes were noted post-treatm...       Adverse Effect\n",
       "4   5  Patients were instructed to maintain a food di...  Neutral Observation"
      ]
     },
     "execution_count": 49,
     "metadata": {},
     "output_type": "execute_result"
    }
   ],
   "source": [
    "# 2. Load Classification Dataset\n",
    "classification_df = pd.read_csv(\"../data/classification_data.csv\")\n",
    "classification_df.head()"
   ]
  },
  {
   "cell_type": "code",
   "execution_count": 50,
   "id": "dfeb6099",
   "metadata": {},
   "outputs": [
    {
     "data": {
      "text/plain": [
       "label\n",
       "Adverse Effect         352\n",
       "Neutral Observation    335\n",
       "Positive Outcome       313\n",
       "Name: count, dtype: int64"
      ]
     },
     "execution_count": 50,
     "metadata": {},
     "output_type": "execute_result"
    }
   ],
   "source": [
    "classification_df['label'].value_counts().sort_index()"
   ]
  },
  {
   "cell_type": "code",
   "execution_count": 51,
   "id": "270ccf6c",
   "metadata": {},
   "outputs": [
    {
     "data": {
      "text/html": [
       "<div>\n",
       "<style scoped>\n",
       "    .dataframe tbody tr th:only-of-type {\n",
       "        vertical-align: middle;\n",
       "    }\n",
       "\n",
       "    .dataframe tbody tr th {\n",
       "        vertical-align: top;\n",
       "    }\n",
       "\n",
       "    .dataframe thead th {\n",
       "        text-align: right;\n",
       "    }\n",
       "</style>\n",
       "<table border=\"1\" class=\"dataframe\">\n",
       "  <thead>\n",
       "    <tr style=\"text-align: right;\">\n",
       "      <th></th>\n",
       "      <th>id</th>\n",
       "      <th>text</th>\n",
       "      <th>label</th>\n",
       "      <th>label_encoded</th>\n",
       "    </tr>\n",
       "  </thead>\n",
       "  <tbody>\n",
       "    <tr>\n",
       "      <th>0</th>\n",
       "      <td>1</td>\n",
       "      <td>DrugZ caused severe rashes in some participants.</td>\n",
       "      <td>Adverse Effect</td>\n",
       "      <td>0</td>\n",
       "    </tr>\n",
       "    <tr>\n",
       "      <th>1</th>\n",
       "      <td>2</td>\n",
       "      <td>No significant side effects were observed duri...</td>\n",
       "      <td>Positive Outcome</td>\n",
       "      <td>2</td>\n",
       "    </tr>\n",
       "    <tr>\n",
       "      <th>2</th>\n",
       "      <td>3</td>\n",
       "      <td>Participants were monitored every two weeks.</td>\n",
       "      <td>Neutral Observation</td>\n",
       "      <td>1</td>\n",
       "    </tr>\n",
       "    <tr>\n",
       "      <th>3</th>\n",
       "      <td>4</td>\n",
       "      <td>Increased liver enzymes were noted post-treatm...</td>\n",
       "      <td>Adverse Effect</td>\n",
       "      <td>0</td>\n",
       "    </tr>\n",
       "    <tr>\n",
       "      <th>4</th>\n",
       "      <td>5</td>\n",
       "      <td>Patients were instructed to maintain a food di...</td>\n",
       "      <td>Neutral Observation</td>\n",
       "      <td>1</td>\n",
       "    </tr>\n",
       "  </tbody>\n",
       "</table>\n",
       "</div>"
      ],
      "text/plain": [
       "   id                                               text                label  \\\n",
       "0   1   DrugZ caused severe rashes in some participants.       Adverse Effect   \n",
       "1   2  No significant side effects were observed duri...     Positive Outcome   \n",
       "2   3       Participants were monitored every two weeks.  Neutral Observation   \n",
       "3   4  Increased liver enzymes were noted post-treatm...       Adverse Effect   \n",
       "4   5  Patients were instructed to maintain a food di...  Neutral Observation   \n",
       "\n",
       "   label_encoded  \n",
       "0              0  \n",
       "1              2  \n",
       "2              1  \n",
       "3              0  \n",
       "4              1  "
      ]
     },
     "execution_count": 51,
     "metadata": {},
     "output_type": "execute_result"
    }
   ],
   "source": [
    "# 3. Encode Labels\n",
    "label_encoder = LabelEncoder()\n",
    "classification_df['label_encoded'] = label_encoder.fit_transform(classification_df['label'])\n",
    "classification_df.head()"
   ]
  },
  {
   "cell_type": "code",
   "execution_count": 52,
   "id": "2a191e60",
   "metadata": {},
   "outputs": [
    {
     "name": "stdout",
     "output_type": "stream",
     "text": [
      "Train Text: No significant side effects were observed during the trial.\n",
      "Train Label: 2\n",
      "\n",
      "Train Text: Participants showed improved lung function after therapy with DrugC.\n",
      "Train Label: 2\n",
      "\n",
      "Train Text: Severe allergic reactions were observed following DrugB administration.\n",
      "Train Label: 0\n",
      "\n",
      "Train Text: Patients were instructed to maintain a food diary.\n",
      "Train Label: 1\n",
      "\n",
      "Train Text: Participants were monitored every two weeks.\n",
      "Train Label: 1\n",
      "\n"
     ]
    }
   ],
   "source": [
    "# 4. Train-Test Split\n",
    "train_texts, val_texts, train_labels, val_labels = train_test_split(\n",
    "    classification_df['text'].tolist(),\n",
    "    classification_df['label_encoded'].tolist(),\n",
    "    test_size=0.2,\n",
    "    random_state=42\n",
    ")\n",
    "\n",
    "for i in range(5):\n",
    "    print(f\"Train Text: {train_texts[i]}\")\n",
    "    print(f\"Train Label: {train_labels[i]}\")\n",
    "    print()"
   ]
  },
  {
   "cell_type": "code",
   "execution_count": 53,
   "id": "7a4c202b",
   "metadata": {},
   "outputs": [],
   "source": [
    "# 5. Tokenization\n",
    "tokenizer = DistilBertTokenizerFast.from_pretrained('distilbert-base-uncased')\n",
    "\n",
    "train_encodings = tokenizer(train_texts, truncation=True, padding=True)\n",
    "val_encodings = tokenizer(val_texts, truncation=True, padding=True)"
   ]
  },
  {
   "cell_type": "code",
   "execution_count": 54,
   "id": "65e6ef17",
   "metadata": {},
   "outputs": [],
   "source": [
    "# 6. Dataset Class\n",
    "torch.backends.cuda.matmul.allow_tf32 = True\n",
    "\n",
    "class ClassificationDataset(torch.utils.data.Dataset):\n",
    "    def __init__(self, encodings, labels):\n",
    "        self.encodings = encodings\n",
    "        self.labels = labels\n",
    "\n",
    "    def __getitem__(self, idx):\n",
    "        item = {key: torch.tensor(val[idx]) for key, val in self.encodings.items()}\n",
    "        item['labels'] = torch.tensor(self.labels[idx])\n",
    "        return item\n",
    "\n",
    "    def __len__(self):\n",
    "        return len(self.labels)\n",
    "\n",
    "train_dataset = ClassificationDataset(train_encodings, train_labels)\n",
    "val_dataset = ClassificationDataset(val_encodings, val_labels)"
   ]
  },
  {
   "cell_type": "code",
   "execution_count": 55,
   "id": "022c17c3",
   "metadata": {},
   "outputs": [
    {
     "name": "stderr",
     "output_type": "stream",
     "text": [
      "Some weights of DistilBertForSequenceClassification were not initialized from the model checkpoint at distilbert-base-uncased and are newly initialized: ['classifier.bias', 'classifier.weight', 'pre_classifier.bias', 'pre_classifier.weight']\n",
      "You should probably TRAIN this model on a down-stream task to be able to use it for predictions and inference.\n"
     ]
    }
   ],
   "source": [
    "# 7. Model\n",
    "model = DistilBertForSequenceClassification.from_pretrained(\"distilbert-base-uncased\", num_labels=len(label_encoder.classes_))"
   ]
  },
  {
   "cell_type": "code",
   "execution_count": 56,
   "id": "dd357019",
   "metadata": {},
   "outputs": [],
   "source": [
    "# 8. Training Arguments\n",
    "training_args = TrainingArguments(\n",
    "    # I/O\n",
    "    output_dir=\"../results\",            # where to save checkpoints & final model\n",
    "    logging_dir=\"../logs\",              # TensorBoard logs\n",
    "\n",
    "    # Evaluation\n",
    "    eval_strategy=\"steps\",              # run evaluation by steps\n",
    "    eval_steps=1,                       #   → every single training step\n",
    "    eval_delay=0,                       #   → no warm‐up delay before first eval\n",
    "\n",
    "    # Logging\n",
    "    logging_strategy=\"steps\",           # log training metrics by steps\n",
    "    logging_steps=1,                    #   → every single training step\n",
    "\n",
    "    # Checkpointing\n",
    "    save_strategy=\"no\",                 # disable auto‐saving\n",
    "    load_best_model_at_end=False,       # (irrelevant when save_strategy=\"no\")\n",
    "\n",
    "    # Optimization\n",
    "    learning_rate=2e-5,\n",
    "    weight_decay=0.01,\n",
    "\n",
    "    # Data\n",
    "    per_device_train_batch_size=32,\n",
    "    per_device_eval_batch_size=32,\n",
    "\n",
    "    # Training length\n",
    "    num_train_epochs=1,\n",
    ")"
   ]
  },
  {
   "cell_type": "code",
   "execution_count": 57,
   "id": "f37e618c",
   "metadata": {},
   "outputs": [],
   "source": [
    "# 9. Trainer\n",
    "trainer = Trainer(\n",
    "    model=model,\n",
    "    args=training_args,\n",
    "    train_dataset=train_dataset,\n",
    "    eval_dataset=val_dataset\n",
    ")"
   ]
  },
  {
   "cell_type": "code",
   "execution_count": 58,
   "id": "fd8cfe69",
   "metadata": {},
   "outputs": [
    {
     "name": "stderr",
     "output_type": "stream",
     "text": [
      "/Users/jmsung/miniconda3/envs/bio-ml/lib/python3.10/site-packages/torch/utils/data/dataloader.py:683: UserWarning: 'pin_memory' argument is set as true but not supported on MPS now, then device pinned memory won't be used.\n",
      "  warnings.warn(warn_msg)\n"
     ]
    },
    {
     "data": {
      "text/html": [],
      "text/plain": [
       "<IPython.core.display.HTML object>"
      ]
     },
     "metadata": {},
     "output_type": "display_data"
    },
    {
     "name": "stdout",
     "output_type": "stream",
     "text": [
      "Zero-shot baseline: {'eval_loss': 1.0954203605651855, 'eval_model_preparation_time': 0.0007, 'eval_runtime': 0.1736, 'eval_samples_per_second': 1151.947, 'eval_steps_per_second': 40.318}\n",
      "Accuracy: 0.36\n",
      "F1 (weighted): 0.19058823529411764\n",
      "ROC-AUC (macro): 0.5160026041914456\n"
     ]
    }
   ],
   "source": [
    "# 10. Baseline Evaluation\n",
    "baseline_metrics = trainer.evaluate()\n",
    "print(\"Zero-shot baseline:\", baseline_metrics)\n",
    "\n",
    "# get raw logits & labels\n",
    "pred = trainer.predict(val_dataset)\n",
    "logits, labels = pred.predictions, pred.label_ids\n",
    "\n",
    "# convert to class‐predictions\n",
    "preds = np.argmax(logits, axis=-1)\n",
    "\n",
    "# compute the usual metrics\n",
    "print(\"Accuracy:\", accuracy_score(labels, preds))\n",
    "print(\"F1 (weighted):\", f1_score(labels, preds, average=\"weighted\"))\n",
    "\n",
    "# ROC-AUC (OvR)\n",
    "probs = softmax(logits, axis=1)\n",
    "y_bin = label_binarize(labels, classes=list(range(logits.shape[1])))\n",
    "print(\"ROC-AUC (macro):\", roc_auc_score(y_bin, probs, multi_class=\"ovr\", average=\"macro\"))"
   ]
  },
  {
   "cell_type": "code",
   "execution_count": 59,
   "id": "91fb5edf",
   "metadata": {},
   "outputs": [
    {
     "name": "stderr",
     "output_type": "stream",
     "text": [
      "/Users/jmsung/miniconda3/envs/bio-ml/lib/python3.10/site-packages/torch/utils/data/dataloader.py:683: UserWarning: 'pin_memory' argument is set as true but not supported on MPS now, then device pinned memory won't be used.\n",
      "  warnings.warn(warn_msg)\n"
     ]
    },
    {
     "data": {
      "text/html": [
       "\n",
       "    <div>\n",
       "      \n",
       "      <progress value='25' max='25' style='width:300px; height:20px; vertical-align: middle;'></progress>\n",
       "      [25/25 00:07, Epoch 1/1]\n",
       "    </div>\n",
       "    <table border=\"1\" class=\"dataframe\">\n",
       "  <thead>\n",
       " <tr style=\"text-align: left;\">\n",
       "      <th>Step</th>\n",
       "      <th>Training Loss</th>\n",
       "      <th>Validation Loss</th>\n",
       "      <th>Model Preparation Time</th>\n",
       "    </tr>\n",
       "  </thead>\n",
       "  <tbody>\n",
       "    <tr>\n",
       "      <td>1</td>\n",
       "      <td>1.079200</td>\n",
       "      <td>1.077265</td>\n",
       "      <td>0.000700</td>\n",
       "    </tr>\n",
       "    <tr>\n",
       "      <td>2</td>\n",
       "      <td>1.121600</td>\n",
       "      <td>1.057835</td>\n",
       "      <td>0.000700</td>\n",
       "    </tr>\n",
       "    <tr>\n",
       "      <td>3</td>\n",
       "      <td>1.069900</td>\n",
       "      <td>1.034128</td>\n",
       "      <td>0.000700</td>\n",
       "    </tr>\n",
       "    <tr>\n",
       "      <td>4</td>\n",
       "      <td>1.031200</td>\n",
       "      <td>1.006889</td>\n",
       "      <td>0.000700</td>\n",
       "    </tr>\n",
       "    <tr>\n",
       "      <td>5</td>\n",
       "      <td>1.019300</td>\n",
       "      <td>0.976988</td>\n",
       "      <td>0.000700</td>\n",
       "    </tr>\n",
       "    <tr>\n",
       "      <td>6</td>\n",
       "      <td>0.985100</td>\n",
       "      <td>0.945228</td>\n",
       "      <td>0.000700</td>\n",
       "    </tr>\n",
       "    <tr>\n",
       "      <td>7</td>\n",
       "      <td>0.960300</td>\n",
       "      <td>0.912770</td>\n",
       "      <td>0.000700</td>\n",
       "    </tr>\n",
       "    <tr>\n",
       "      <td>8</td>\n",
       "      <td>0.965500</td>\n",
       "      <td>0.880644</td>\n",
       "      <td>0.000700</td>\n",
       "    </tr>\n",
       "    <tr>\n",
       "      <td>9</td>\n",
       "      <td>0.889400</td>\n",
       "      <td>0.848917</td>\n",
       "      <td>0.000700</td>\n",
       "    </tr>\n",
       "    <tr>\n",
       "      <td>10</td>\n",
       "      <td>0.827300</td>\n",
       "      <td>0.817635</td>\n",
       "      <td>0.000700</td>\n",
       "    </tr>\n",
       "    <tr>\n",
       "      <td>11</td>\n",
       "      <td>0.873600</td>\n",
       "      <td>0.787012</td>\n",
       "      <td>0.000700</td>\n",
       "    </tr>\n",
       "    <tr>\n",
       "      <td>12</td>\n",
       "      <td>0.890000</td>\n",
       "      <td>0.758104</td>\n",
       "      <td>0.000700</td>\n",
       "    </tr>\n",
       "    <tr>\n",
       "      <td>13</td>\n",
       "      <td>0.778200</td>\n",
       "      <td>0.731636</td>\n",
       "      <td>0.000700</td>\n",
       "    </tr>\n",
       "    <tr>\n",
       "      <td>14</td>\n",
       "      <td>0.698600</td>\n",
       "      <td>0.707890</td>\n",
       "      <td>0.000700</td>\n",
       "    </tr>\n",
       "    <tr>\n",
       "      <td>15</td>\n",
       "      <td>0.702300</td>\n",
       "      <td>0.685995</td>\n",
       "      <td>0.000700</td>\n",
       "    </tr>\n",
       "    <tr>\n",
       "      <td>16</td>\n",
       "      <td>0.730800</td>\n",
       "      <td>0.665617</td>\n",
       "      <td>0.000700</td>\n",
       "    </tr>\n",
       "    <tr>\n",
       "      <td>17</td>\n",
       "      <td>0.635600</td>\n",
       "      <td>0.647191</td>\n",
       "      <td>0.000700</td>\n",
       "    </tr>\n",
       "    <tr>\n",
       "      <td>18</td>\n",
       "      <td>0.637100</td>\n",
       "      <td>0.631453</td>\n",
       "      <td>0.000700</td>\n",
       "    </tr>\n",
       "    <tr>\n",
       "      <td>19</td>\n",
       "      <td>0.651100</td>\n",
       "      <td>0.617527</td>\n",
       "      <td>0.000700</td>\n",
       "    </tr>\n",
       "    <tr>\n",
       "      <td>20</td>\n",
       "      <td>0.674700</td>\n",
       "      <td>0.605346</td>\n",
       "      <td>0.000700</td>\n",
       "    </tr>\n",
       "    <tr>\n",
       "      <td>21</td>\n",
       "      <td>0.624500</td>\n",
       "      <td>0.595214</td>\n",
       "      <td>0.000700</td>\n",
       "    </tr>\n",
       "    <tr>\n",
       "      <td>22</td>\n",
       "      <td>0.617400</td>\n",
       "      <td>0.586936</td>\n",
       "      <td>0.000700</td>\n",
       "    </tr>\n",
       "    <tr>\n",
       "      <td>23</td>\n",
       "      <td>0.620800</td>\n",
       "      <td>0.580624</td>\n",
       "      <td>0.000700</td>\n",
       "    </tr>\n",
       "    <tr>\n",
       "      <td>24</td>\n",
       "      <td>0.674900</td>\n",
       "      <td>0.576344</td>\n",
       "      <td>0.000700</td>\n",
       "    </tr>\n",
       "    <tr>\n",
       "      <td>25</td>\n",
       "      <td>0.645600</td>\n",
       "      <td>0.574151</td>\n",
       "      <td>0.000700</td>\n",
       "    </tr>\n",
       "  </tbody>\n",
       "</table><p>"
      ],
      "text/plain": [
       "<IPython.core.display.HTML object>"
      ]
     },
     "metadata": {},
     "output_type": "display_data"
    },
    {
     "data": {
      "text/plain": [
       "TrainOutput(global_step=25, training_loss=0.8161712527275086, metrics={'train_runtime': 7.4306, 'train_samples_per_second': 107.663, 'train_steps_per_second': 3.364, 'total_flos': 3104760024000.0, 'train_loss': 0.8161712527275086, 'epoch': 1.0})"
      ]
     },
     "execution_count": 59,
     "metadata": {},
     "output_type": "execute_result"
    }
   ],
   "source": [
    "# 11. Train\n",
    "trainer.train()"
   ]
  },
  {
   "cell_type": "code",
   "execution_count": 60,
   "id": "2fa10cdf",
   "metadata": {},
   "outputs": [
    {
     "data": {
      "text/html": [],
      "text/plain": [
       "<IPython.core.display.HTML object>"
      ]
     },
     "metadata": {},
     "output_type": "display_data"
    },
    {
     "name": "stdout",
     "output_type": "stream",
     "text": [
      "{'eval_loss': 0.5741512775421143, 'eval_model_preparation_time': 0.0007, 'eval_runtime': 0.1613, 'eval_samples_per_second': 1240.249, 'eval_steps_per_second': 43.409, 'epoch': 1.0}\n"
     ]
    }
   ],
   "source": [
    "# 12. Evaluation\n",
    "metrics = trainer.evaluate()\n",
    "print(metrics)"
   ]
  },
  {
   "cell_type": "code",
   "execution_count": 61,
   "id": "db36071f",
   "metadata": {},
   "outputs": [
    {
     "data": {
      "image/png": "[encoded data removed]",
      "text/plain": [
       "<Figure size 800x500 with 1 Axes>"
      ]
     },
     "metadata": {},
     "output_type": "display_data"
    }
   ],
   "source": [
    "# 13. Plotting Training and Evaluation Loss\n",
    "\n",
    "# 1) Pull out the log history\n",
    "hist = pd.DataFrame(trainer.state.log_history)\n",
    "\n",
    "# 2) Separate train-loss and eval-loss entries\n",
    "train_df = hist[hist['loss'].notnull()]\n",
    "eval_df  = hist[hist['eval_loss'].notnull()]\n",
    "\n",
    "# 3) One figure, two curves\n",
    "plt.figure(figsize=(8,5))\n",
    "plt.plot(train_df['step'], train_df['loss'],     label='Train Loss')\n",
    "plt.plot(eval_df ['step'], eval_df ['eval_loss'], label='Eval  Loss', linestyle='--')\n",
    "plt.xlabel('Training Step')\n",
    "plt.ylabel('Loss')\n",
    "plt.title('Training vs. Evaluation Loss')\n",
    "plt.legend()\n",
    "plt.grid(True)\n",
    "plt.yscale('log')\n",
    "plt.show()\n"
   ]
  },
  {
   "cell_type": "code",
   "execution_count": 62,
   "id": "ec2d9c48",
   "metadata": {},
   "outputs": [
    {
     "name": "stdout",
     "output_type": "stream",
     "text": [
      "Validation Accuracy: 1.0000\n",
      "Validation F1 (weighted): 1.0000\n",
      "\n",
      "                     precision    recall  f1-score   support\n",
      "\n",
      "     Adverse Effect     1.0000    1.0000    1.0000        72\n",
      "Neutral Observation     1.0000    1.0000    1.0000        62\n",
      "   Positive Outcome     1.0000    1.0000    1.0000        66\n",
      "\n",
      "           accuracy                         1.0000       200\n",
      "          macro avg     1.0000    1.0000    1.0000       200\n",
      "       weighted avg     1.0000    1.0000    1.0000       200\n",
      "\n"
     ]
    }
   ],
   "source": [
    "# 14. Predictions and Metrics\n",
    "\n",
    "# 1) Run predictions\n",
    "pred_out = trainer.predict(val_dataset)\n",
    "logits   = pred_out.predictions      # (n_samples, n_classes)\n",
    "y_true   = pred_out.label_ids        # (n_samples,)\n",
    "\n",
    "# 2) Hard preds & metrics\n",
    "preds = np.argmax(logits, axis=-1)\n",
    "acc   = accuracy_score(y_true, preds)\n",
    "f1    = f1_score(y_true, preds, average=\"weighted\")\n",
    "\n",
    "print(f\"Validation Accuracy: {acc:.4f}\")\n",
    "print(f\"Validation F1 (weighted): {f1:.4f}\\n\")\n",
    "print(classification_report(\n",
    "    y_true,\n",
    "    preds,\n",
    "    target_names=label_encoder.classes_,\n",
    "    digits=4\n",
    "))"
   ]
  },
  {
   "cell_type": "code",
   "execution_count": 63,
   "id": "d463c3a7",
   "metadata": {},
   "outputs": [
    {
     "data": {
      "image/png": "[encoded data removed]",
      "text/plain": [
       "<Figure size 1200x400 with 3 Axes>"
      ]
     },
     "metadata": {},
     "output_type": "display_data"
    }
   ],
   "source": [
    "# 14. ROC Curves for Each Class\n",
    "\n",
    "# 1) Softmax → probabilities → binarize for OvR ROC\n",
    "probs     = softmax(logits, axis=1)\n",
    "n_classes = probs.shape[1]\n",
    "y_bin     = label_binarize(y_true, classes=list(range(n_classes)))\n",
    "\n",
    "# 2) Plot each class’s ROC in its own subplot\n",
    "n_rows, n_cols = 1, n_classes\n",
    "fig, axes = plt.subplots(n_rows, n_cols, figsize=(4*n_cols, 4))\n",
    "axes = axes.flatten()\n",
    "\n",
    "for i, ax in enumerate(axes):\n",
    "    fpr, tpr, _ = roc_curve(y_bin[:, i], probs[:, i])\n",
    "    roc_auc     = auc(fpr, tpr)\n",
    "\n",
    "    ax.plot(fpr, tpr, lw=2, label=f\"AUC = {roc_auc:.2f}\")\n",
    "    ax.plot([0,1], [0,1], linestyle=\"--\", color=\"gray\", label=\"Chance\")\n",
    "    ax.set_title(f\"ROC: {label_encoder.classes_[i]}\")\n",
    "    ax.set_xlabel(\"False Positive Rate\")\n",
    "    ax.set_ylabel(\"True Positive Rate\")\n",
    "    ax.legend(loc=\"lower right\", fontsize=\"small\")\n",
    "    ax.grid(alpha=0.3)\n",
    "\n",
    "plt.tight_layout()\n",
    "plt.show()\n"
   ]
  },
  {
   "cell_type": "code",
   "execution_count": 64,
   "id": "1e350053",
   "metadata": {},
   "outputs": [
    {
     "data": {
      "text/plain": [
       "('../models/distilbert-classification/tokenizer_config.json',\n",
       " '../models/distilbert-classification/special_tokens_map.json',\n",
       " '../models/distilbert-classification/vocab.txt',\n",
       " '../models/distilbert-classification/added_tokens.json',\n",
       " '../models/distilbert-classification/tokenizer.json')"
      ]
     },
     "execution_count": 64,
     "metadata": {},
     "output_type": "execute_result"
    }
   ],
   "source": [
    "# 15. Save Model and Tokenizer\n",
    "\n",
    "# 1) Make sure the directory exists\n",
    "out_dir = \"../models/distilbert-classification\"\n",
    "os.makedirs(out_dir, exist_ok=True)\n",
    "\n",
    "# 2) Save the config and the state_dict yourself\n",
    "model.config.save_pretrained(out_dir)  \n",
    "torch.save(model.state_dict(), os.path.join(out_dir, \"pytorch_model.bin\"))\n",
    "\n",
    "# 3) Save the tokenizer\n",
    "tokenizer.save_pretrained(out_dir)\n"
   ]
  },
  {
   "cell_type": "markdown",
   "id": "77a7f6e2",
   "metadata": {},
   "source": [
    "# Result\n",
    "* After just one epoch of fine-tuning, the pretrained DistilBERT model achieves perfect validation performance (Accuracy = F1 = AUC = 1.0) for all 3 classes."
   ]
  },
  {
   "cell_type": "code",
   "execution_count": null,
   "id": "6851dd73",
   "metadata": {},
   "outputs": [],
   "source": []
  },
  {
   "cell_type": "code",
   "execution_count": null,
   "id": "fa6ed4eb",
   "metadata": {},
   "outputs": [],
   "source": []
  }
 ],
 "metadata": {
  "kernelspec": {
   "display_name": "bio-ml",
   "language": "python",
   "name": "python3"
  },
  "language_info": {
   "codemirror_mode": {
    "name": "ipython",
    "version": 3
   },
   "file_extension": ".py",
   "mimetype": "text/x-python",
   "name": "python",
   "nbconvert_exporter": "python",
   "pygments_lexer": "ipython3",
   "version": "3.10.9"
  }
 },
 "nbformat": 4,
 "nbformat_minor": 5
}
