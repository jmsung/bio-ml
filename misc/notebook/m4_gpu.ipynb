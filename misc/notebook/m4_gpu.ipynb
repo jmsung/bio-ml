{
 "cells": [
  {
   "cell_type": "code",
   "execution_count": 3,
   "id": "935eadce",
   "metadata": {},
   "outputs": [
    {
     "name": "stdout",
     "output_type": "stream",
     "text": [
      "Tensor device: mps:0\n",
      "OK—GPU compute via MPS works!\n"
     ]
    }
   ],
   "source": [
    "import torch\n",
    "\n",
    "if torch.backends.mps.is_available():\n",
    "    # Create a tensor directly on the GPU and do a tiny operation\n",
    "    x = torch.randn((5,5), device=\"mps\")\n",
    "    y = x * 2\n",
    "    print(\"Tensor device:\", y.device)\n",
    "    print(\"OK—GPU compute via MPS works!\")\n",
    "else:\n",
    "    print(\"MPS not available. Falling back to CPU.\")"
   ]
  },
  {
   "cell_type": "code",
   "execution_count": 4,
   "id": "b3bb058c",
   "metadata": {},
   "outputs": [
    {
     "name": "stdout",
     "output_type": "stream",
     "text": [
      "TF GPUs: [PhysicalDevice(name='/physical_device:GPU:0', device_type='GPU')]\n"
     ]
    }
   ],
   "source": [
    "import tensorflow as tf\n",
    "print(\"TF GPUs:\", tf.config.list_physical_devices(\"GPU\"))"
   ]
  },
  {
   "cell_type": "code",
   "execution_count": 5,
   "id": "b69f0370",
   "metadata": {},
   "outputs": [
    {
     "name": "stdout",
     "output_type": "stream",
     "text": [
      "Using device: mps\n",
      "Step 1 loss: 2.8988\n"
     ]
    }
   ],
   "source": [
    "import torch\n",
    "import torch.nn as nn\n",
    "import torch.optim as optim\n",
    "\n",
    "# 1) Pick device\n",
    "device = torch.device(\"mps\" if torch.backends.mps.is_available() else \"cpu\")\n",
    "print(\"Using device:\", device)\n",
    "\n",
    "# 2) Dummy dataset (y = 2x)\n",
    "xs = torch.linspace(-1, 1, 100).unsqueeze(1).to(device)\n",
    "ys = 2 * xs + torch.rand_like(xs) * 0.1\n",
    "\n",
    "# 3) Simple linear model\n",
    "model = nn.Linear(1, 1).to(device)\n",
    "criterion = nn.MSELoss()\n",
    "optimizer = optim.SGD(model.parameters(), lr=0.1)\n",
    "\n",
    "# 4) One training step\n",
    "model.train()\n",
    "optimizer.zero_grad()\n",
    "preds = model(xs)\n",
    "loss = criterion(preds, ys)\n",
    "loss.backward()\n",
    "optimizer.step()\n",
    "\n",
    "print(f\"Step 1 loss: {loss.item():.4f}\")\n"
   ]
  },
  {
   "cell_type": "code",
   "execution_count": 6,
   "id": "eb9c2a66",
   "metadata": {},
   "outputs": [
    {
     "name": "stdout",
     "output_type": "stream",
     "text": [
      "PyTorch device: mps\n",
      "→ MPS works: mps:0\n",
      "TF GPUs: [PhysicalDevice(name='/physical_device:GPU:0', device_type='GPU')]\n",
      "→ TF tensor on: /job:localhost/replica:0/task:0/device:GPU:0\n"
     ]
    },
    {
     "name": "stderr",
     "output_type": "stream",
     "text": [
      "2025-06-11 16:49:20.184510: I metal_plugin/src/device/metal_device.cc:1154] Metal device set to: Apple M4\n",
      "2025-06-11 16:49:20.184544: I metal_plugin/src/device/metal_device.cc:296] systemMemory: 24.00 GB\n",
      "2025-06-11 16:49:20.184547: I metal_plugin/src/device/metal_device.cc:313] maxCacheSize: 8.00 GB\n",
      "2025-06-11 16:49:20.184575: I tensorflow/core/common_runtime/pluggable_device/pluggable_device_factory.cc:305] Could not identify NUMA node of platform GPU ID 0, defaulting to 0. Your kernel may not have been built with NUMA support.\n",
      "2025-06-11 16:49:20.184585: I tensorflow/core/common_runtime/pluggable_device/pluggable_device_factory.cc:271] Created TensorFlow device (/job:localhost/replica:0/task:0/device:GPU:0 with 0 MB memory) -> physical PluggableDevice (device: 0, name: METAL, pci bus id: <undefined>)\n"
     ]
    }
   ],
   "source": [
    "import torch, tensorflow as tf\n",
    "import numpy as np\n",
    "\n",
    "# PyTorch MPS test\n",
    "device = torch.device(\"mps\" if torch.backends.mps.is_available() else \"cpu\")\n",
    "print(\"PyTorch device:\", device)\n",
    "x = torch.randn(3, 3, device=device)\n",
    "print(\"→ MPS works:\", (x * 2).device)\n",
    "\n",
    "# TensorFlow Metal test\n",
    "gpus = tf.config.list_physical_devices(\"GPU\")\n",
    "print(\"TF GPUs:\", gpus)\n",
    "with tf.device(\"/GPU:0\" if gpus else \"/CPU:0\"):\n",
    "    a = tf.constant([[1.0, 2.0]])\n",
    "    b = a * 3\n",
    "    print(\"→ TF tensor on:\", b.device)\n"
   ]
  },
  {
   "cell_type": "code",
   "execution_count": null,
   "id": "4d5156a5",
   "metadata": {},
   "outputs": [],
   "source": []
  },
  {
   "cell_type": "code",
   "execution_count": null,
   "id": "f3a0d6b3",
   "metadata": {},
   "outputs": [],
   "source": []
  }
 ],
 "metadata": {
  "kernelspec": {
   "display_name": "bio-ml",
   "language": "python",
   "name": "python3"
  },
  "language_info": {
   "codemirror_mode": {
    "name": "ipython",
    "version": 3
   },
   "file_extension": ".py",
   "mimetype": "text/x-python",
   "name": "python",
   "nbconvert_exporter": "python",
   "pygments_lexer": "ipython3",
   "version": "3.10.14"
  }
 },
 "nbformat": 4,
 "nbformat_minor": 5
}
