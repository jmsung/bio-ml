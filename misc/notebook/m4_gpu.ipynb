{
 "cells": [
  {
   "cell_type": "code",
   "execution_count": 1,
   "id": "4d5156a5",
   "metadata": {},
   "outputs": [
    {
     "name": "stdout",
     "output_type": "stream",
     "text": [
      "TensorFlow version: 2.13.1\n",
      "TF GPUs detected: [PhysicalDevice(name='/physical_device:GPU:0', device_type='GPU')]\n",
      "\n",
      "PyTorch version: 2.1.2\n",
      "PyTorch default device: mps\n",
      "\n",
      "  random tensor +2 = 21.96222496032715 \n",
      "\n"
     ]
    },
    {
     "name": "stderr",
     "output_type": "stream",
     "text": [
      "/Users/jmsung/miniconda3/envs/bio-ml/lib/python3.10/site-packages/tqdm/auto.py:21: TqdmWarning: IProgress not found. Please update jupyter and ipywidgets. See https://ipywidgets.readthedocs.io/en/stable/user_install.html\n",
      "  from .autonotebook import tqdm as notebook_tqdm\n",
      "/Users/jmsung/miniconda3/envs/bio-ml/lib/python3.10/site-packages/torchvision/datapoints/__init__.py:12: UserWarning: The torchvision.datapoints and torchvision.transforms.v2 namespaces are still Beta. While we do not expect major breaking changes, some APIs may still change according to user feedback. Please submit any feedback you may have in this issue: https://github.com/pytorch/vision/issues/6753, and you can also check out https://github.com/pytorch/vision/issues/7319 to learn more about the APIs that we suspect might involve future changes. You can silence this warning by calling torchvision.disable_beta_transforms_warning().\n",
      "  warnings.warn(_BETA_TRANSFORMS_WARNING)\n",
      "/Users/jmsung/miniconda3/envs/bio-ml/lib/python3.10/site-packages/torchvision/transforms/v2/__init__.py:54: UserWarning: The torchvision.datapoints and torchvision.transforms.v2 namespaces are still Beta. While we do not expect major breaking changes, some APIs may still change according to user feedback. Please submit any feedback you may have in this issue: https://github.com/pytorch/vision/issues/6753, and you can also check out https://github.com/pytorch/vision/issues/7319 to learn more about the APIs that we suspect might involve future changes. You can silence this warning by calling torchvision.disable_beta_transforms_warning().\n",
      "  warnings.warn(_BETA_TRANSFORMS_WARNING)\n"
     ]
    },
    {
     "name": "stdout",
     "output_type": "stream",
     "text": [
      "Transformers version: unknown\n"
     ]
    },
    {
     "name": "stderr",
     "output_type": "stream",
     "text": [
      "Device set to use mps:0\n"
     ]
    },
    {
     "name": "stdout",
     "output_type": "stream",
     "text": [
      "🤗 Transformers output: {'label': 'NEGATIVE', 'score': 0.9832760095596313}\n"
     ]
    }
   ],
   "source": [
    "#!/usr/bin/env python3\n",
    "import os\n",
    "\n",
    "# 1) TensorFlow\n",
    "try:\n",
    "    import tensorflow as tf\n",
    "    print(f\"TensorFlow version: {tf.__version__}\")\n",
    "    gpus = tf.config.list_physical_devices(\"GPU\")\n",
    "    print(f\"TF GPUs detected: {gpus}\\n\")\n",
    "except Exception as e:\n",
    "    print(\"❌ TensorFlow import failed:\", e, \"\\n\")\n",
    "\n",
    "# 2) PyTorch\n",
    "try:\n",
    "    import torch\n",
    "    print(f\"PyTorch version: {torch.__version__}\")\n",
    "    # On Mac M1/M2 this will show 'mps' if available\n",
    "    device = (\"cuda\" if torch.cuda.is_available()\n",
    "              else \"mps\" if getattr(torch.backends, \"mps\", None) and torch.backends.mps.is_available()\n",
    "              else \"cpu\")\n",
    "    print(f\"PyTorch default device: {device}\\n\")\n",
    "    # simple tensor op\n",
    "    x = torch.randn((3,3), device=device)\n",
    "    print(\"  random tensor +2 =\", (x + 2).sum().item(), \"\\n\")\n",
    "except Exception as e:\n",
    "    print(\"❌ PyTorch import failed:\", e, \"\\n\")\n",
    "\n",
    "# 3) Transformers (PyTorch backend)\n",
    "try:\n",
    "    from transformers import pipeline\n",
    "    print(\"Transformers version:\", pipeline.__version__ if hasattr(pipeline, \"__version__\") else \"unknown\")\n",
    "    classifier = pipeline(\"sentiment-analysis\", model=\"distilbert-base-uncased-finetuned-sst-2-english\")\n",
    "    result = classifier(\"Transformers, TensorFlow, and PyTorch—smoke test passed!\")[0]\n",
    "    print(\"🤗 Transformers output:\", result)\n",
    "except Exception as e:\n",
    "    print(\"❌ Transformers import/pipeline failed:\", e)\n"
   ]
  },
  {
   "cell_type": "code",
   "execution_count": null,
   "id": "f3a0d6b3",
   "metadata": {},
   "outputs": [],
   "source": []
  }
 ],
 "metadata": {
  "kernelspec": {
   "display_name": "bio-ml",
   "language": "python",
   "name": "python3"
  },
  "language_info": {
   "codemirror_mode": {
    "name": "ipython",
    "version": 3
   },
   "file_extension": ".py",
   "mimetype": "text/x-python",
   "name": "python",
   "nbconvert_exporter": "python",
   "pygments_lexer": "ipython3",
   "version": "3.10.9"
  }
 },
 "nbformat": 4,
 "nbformat_minor": 5
}
