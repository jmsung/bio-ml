{
 "cells": [
  {
   "cell_type": "code",
   "execution_count": 103,
   "id": "e560ed85",
   "metadata": {},
   "outputs": [],
   "source": [
    "import pandas as pd\n",
    "from sklearn.model_selection import train_test_split, GroupKFold, cross_validate\n",
    "from sklearn.preprocessing import StandardScaler\n",
    "from sklearn.compose import ColumnTransformer\n",
    "from sklearn.pipeline import Pipeline\n",
    "from sklearn.linear_model import LogisticRegression\n",
    "from sklearn.metrics import classification_report, roc_auc_score"
   ]
  },
  {
   "cell_type": "code",
   "execution_count": 104,
   "id": "c7067869",
   "metadata": {},
   "outputs": [
    {
     "data": {
      "text/html": [
       "<div>\n",
       "<style scoped>\n",
       "    .dataframe tbody tr th:only-of-type {\n",
       "        vertical-align: middle;\n",
       "    }\n",
       "\n",
       "    .dataframe tbody tr th {\n",
       "        vertical-align: top;\n",
       "    }\n",
       "\n",
       "    .dataframe thead th {\n",
       "        text-align: right;\n",
       "    }\n",
       "</style>\n",
       "<table border=\"1\" class=\"dataframe\">\n",
       "  <thead>\n",
       "    <tr style=\"text-align: right;\">\n",
       "      <th></th>\n",
       "      <th>Cohort</th>\n",
       "      <th>Label</th>\n",
       "      <th>A_0</th>\n",
       "      <th>A_1</th>\n",
       "      <th>A_2</th>\n",
       "      <th>A_3</th>\n",
       "      <th>A_4</th>\n",
       "      <th>A_5</th>\n",
       "      <th>A_6</th>\n",
       "      <th>A_7</th>\n",
       "      <th>...</th>\n",
       "      <th>B_90</th>\n",
       "      <th>B_91</th>\n",
       "      <th>B_92</th>\n",
       "      <th>B_93</th>\n",
       "      <th>B_94</th>\n",
       "      <th>B_95</th>\n",
       "      <th>B_96</th>\n",
       "      <th>B_97</th>\n",
       "      <th>B_98</th>\n",
       "      <th>B_99</th>\n",
       "    </tr>\n",
       "  </thead>\n",
       "  <tbody>\n",
       "    <tr>\n",
       "      <th>0</th>\n",
       "      <td>Aug</td>\n",
       "      <td>0</td>\n",
       "      <td>1.621774</td>\n",
       "      <td>1.739324</td>\n",
       "      <td>1.451617</td>\n",
       "      <td>-0.186583</td>\n",
       "      <td>2.376608</td>\n",
       "      <td>2.295373</td>\n",
       "      <td>2.722720</td>\n",
       "      <td>1.821542</td>\n",
       "      <td>...</td>\n",
       "      <td>0.864761</td>\n",
       "      <td>0.134935</td>\n",
       "      <td>0.242494</td>\n",
       "      <td>0.359284</td>\n",
       "      <td>0.003831</td>\n",
       "      <td>0.069875</td>\n",
       "      <td>0.259369</td>\n",
       "      <td>0.244837</td>\n",
       "      <td>0.554309</td>\n",
       "      <td>0.733232</td>\n",
       "    </tr>\n",
       "    <tr>\n",
       "      <th>1</th>\n",
       "      <td>Aug</td>\n",
       "      <td>0</td>\n",
       "      <td>2.767240</td>\n",
       "      <td>1.079509</td>\n",
       "      <td>-0.723664</td>\n",
       "      <td>1.737466</td>\n",
       "      <td>1.844370</td>\n",
       "      <td>2.059156</td>\n",
       "      <td>2.358058</td>\n",
       "      <td>1.868140</td>\n",
       "      <td>...</td>\n",
       "      <td>0.030889</td>\n",
       "      <td>0.226631</td>\n",
       "      <td>0.329706</td>\n",
       "      <td>0.826815</td>\n",
       "      <td>0.317215</td>\n",
       "      <td>0.114622</td>\n",
       "      <td>0.588142</td>\n",
       "      <td>0.668808</td>\n",
       "      <td>0.491239</td>\n",
       "      <td>0.572640</td>\n",
       "    </tr>\n",
       "    <tr>\n",
       "      <th>2</th>\n",
       "      <td>Aug</td>\n",
       "      <td>0</td>\n",
       "      <td>2.122517</td>\n",
       "      <td>0.713271</td>\n",
       "      <td>2.915116</td>\n",
       "      <td>1.313582</td>\n",
       "      <td>2.152386</td>\n",
       "      <td>0.885216</td>\n",
       "      <td>2.853469</td>\n",
       "      <td>0.424814</td>\n",
       "      <td>...</td>\n",
       "      <td>0.830995</td>\n",
       "      <td>0.242558</td>\n",
       "      <td>0.841052</td>\n",
       "      <td>0.958406</td>\n",
       "      <td>0.721642</td>\n",
       "      <td>0.753970</td>\n",
       "      <td>0.840054</td>\n",
       "      <td>0.979133</td>\n",
       "      <td>0.357064</td>\n",
       "      <td>0.194532</td>\n",
       "    </tr>\n",
       "    <tr>\n",
       "      <th>3</th>\n",
       "      <td>Aug</td>\n",
       "      <td>0</td>\n",
       "      <td>1.802962</td>\n",
       "      <td>3.129745</td>\n",
       "      <td>2.488166</td>\n",
       "      <td>0.917015</td>\n",
       "      <td>2.729987</td>\n",
       "      <td>1.810858</td>\n",
       "      <td>2.108782</td>\n",
       "      <td>0.664469</td>\n",
       "      <td>...</td>\n",
       "      <td>0.391327</td>\n",
       "      <td>0.153289</td>\n",
       "      <td>0.214403</td>\n",
       "      <td>0.113282</td>\n",
       "      <td>0.563799</td>\n",
       "      <td>0.164133</td>\n",
       "      <td>0.262977</td>\n",
       "      <td>0.387080</td>\n",
       "      <td>0.846162</td>\n",
       "      <td>0.564837</td>\n",
       "    </tr>\n",
       "    <tr>\n",
       "      <th>4</th>\n",
       "      <td>Aug</td>\n",
       "      <td>0</td>\n",
       "      <td>0.367035</td>\n",
       "      <td>2.749154</td>\n",
       "      <td>1.558293</td>\n",
       "      <td>1.304794</td>\n",
       "      <td>0.857214</td>\n",
       "      <td>3.152263</td>\n",
       "      <td>1.684176</td>\n",
       "      <td>1.667096</td>\n",
       "      <td>...</td>\n",
       "      <td>0.029424</td>\n",
       "      <td>0.986045</td>\n",
       "      <td>0.232829</td>\n",
       "      <td>0.953272</td>\n",
       "      <td>0.918123</td>\n",
       "      <td>0.857471</td>\n",
       "      <td>0.303726</td>\n",
       "      <td>0.404233</td>\n",
       "      <td>0.050626</td>\n",
       "      <td>0.203764</td>\n",
       "    </tr>\n",
       "    <tr>\n",
       "      <th>...</th>\n",
       "      <td>...</td>\n",
       "      <td>...</td>\n",
       "      <td>...</td>\n",
       "      <td>...</td>\n",
       "      <td>...</td>\n",
       "      <td>...</td>\n",
       "      <td>...</td>\n",
       "      <td>...</td>\n",
       "      <td>...</td>\n",
       "      <td>...</td>\n",
       "      <td>...</td>\n",
       "      <td>...</td>\n",
       "      <td>...</td>\n",
       "      <td>...</td>\n",
       "      <td>...</td>\n",
       "      <td>...</td>\n",
       "      <td>...</td>\n",
       "      <td>...</td>\n",
       "      <td>...</td>\n",
       "      <td>...</td>\n",
       "      <td>...</td>\n",
       "    </tr>\n",
       "    <tr>\n",
       "      <th>145</th>\n",
       "      <td>Mar</td>\n",
       "      <td>1</td>\n",
       "      <td>-1.682147</td>\n",
       "      <td>-1.262470</td>\n",
       "      <td>-3.842003</td>\n",
       "      <td>-2.204974</td>\n",
       "      <td>-0.902512</td>\n",
       "      <td>0.520465</td>\n",
       "      <td>-1.227517</td>\n",
       "      <td>-0.628699</td>\n",
       "      <td>...</td>\n",
       "      <td>0.509399</td>\n",
       "      <td>0.705261</td>\n",
       "      <td>0.230260</td>\n",
       "      <td>0.958283</td>\n",
       "      <td>0.673974</td>\n",
       "      <td>0.601420</td>\n",
       "      <td>0.256721</td>\n",
       "      <td>0.232084</td>\n",
       "      <td>0.994775</td>\n",
       "      <td>0.611156</td>\n",
       "    </tr>\n",
       "    <tr>\n",
       "      <th>146</th>\n",
       "      <td>Mar</td>\n",
       "      <td>1</td>\n",
       "      <td>-1.386700</td>\n",
       "      <td>-1.253194</td>\n",
       "      <td>-1.945290</td>\n",
       "      <td>-3.505696</td>\n",
       "      <td>-1.847696</td>\n",
       "      <td>-0.841383</td>\n",
       "      <td>-1.970503</td>\n",
       "      <td>-2.129677</td>\n",
       "      <td>...</td>\n",
       "      <td>0.146937</td>\n",
       "      <td>0.603260</td>\n",
       "      <td>0.806180</td>\n",
       "      <td>0.410741</td>\n",
       "      <td>0.930247</td>\n",
       "      <td>0.837703</td>\n",
       "      <td>0.330396</td>\n",
       "      <td>0.603705</td>\n",
       "      <td>0.338051</td>\n",
       "      <td>0.464377</td>\n",
       "    </tr>\n",
       "    <tr>\n",
       "      <th>147</th>\n",
       "      <td>Mar</td>\n",
       "      <td>1</td>\n",
       "      <td>0.296081</td>\n",
       "      <td>-1.919121</td>\n",
       "      <td>0.350761</td>\n",
       "      <td>-1.491252</td>\n",
       "      <td>-1.950832</td>\n",
       "      <td>-2.100143</td>\n",
       "      <td>-1.230885</td>\n",
       "      <td>-0.888188</td>\n",
       "      <td>...</td>\n",
       "      <td>0.991078</td>\n",
       "      <td>0.623959</td>\n",
       "      <td>0.127712</td>\n",
       "      <td>0.553945</td>\n",
       "      <td>0.162934</td>\n",
       "      <td>0.777856</td>\n",
       "      <td>0.835434</td>\n",
       "      <td>0.857982</td>\n",
       "      <td>0.725078</td>\n",
       "      <td>0.798173</td>\n",
       "    </tr>\n",
       "    <tr>\n",
       "      <th>148</th>\n",
       "      <td>Mar</td>\n",
       "      <td>1</td>\n",
       "      <td>-1.528270</td>\n",
       "      <td>-2.667680</td>\n",
       "      <td>-1.118364</td>\n",
       "      <td>-2.586643</td>\n",
       "      <td>-1.151861</td>\n",
       "      <td>-1.574978</td>\n",
       "      <td>-3.201278</td>\n",
       "      <td>-2.337745</td>\n",
       "      <td>...</td>\n",
       "      <td>0.080779</td>\n",
       "      <td>0.995426</td>\n",
       "      <td>0.707016</td>\n",
       "      <td>0.680826</td>\n",
       "      <td>0.738497</td>\n",
       "      <td>0.551783</td>\n",
       "      <td>0.526466</td>\n",
       "      <td>0.421607</td>\n",
       "      <td>0.851696</td>\n",
       "      <td>0.403886</td>\n",
       "    </tr>\n",
       "    <tr>\n",
       "      <th>149</th>\n",
       "      <td>Mar</td>\n",
       "      <td>1</td>\n",
       "      <td>-1.371618</td>\n",
       "      <td>-0.545679</td>\n",
       "      <td>-0.614194</td>\n",
       "      <td>-1.011803</td>\n",
       "      <td>-2.576138</td>\n",
       "      <td>0.776330</td>\n",
       "      <td>-0.628203</td>\n",
       "      <td>-1.985767</td>\n",
       "      <td>...</td>\n",
       "      <td>0.249263</td>\n",
       "      <td>0.054087</td>\n",
       "      <td>0.223984</td>\n",
       "      <td>0.617292</td>\n",
       "      <td>0.195724</td>\n",
       "      <td>0.434497</td>\n",
       "      <td>0.583487</td>\n",
       "      <td>0.935615</td>\n",
       "      <td>0.350897</td>\n",
       "      <td>0.310964</td>\n",
       "    </tr>\n",
       "  </tbody>\n",
       "</table>\n",
       "<p>150 rows × 202 columns</p>\n",
       "</div>"
      ],
      "text/plain": [
       "    Cohort  Label       A_0       A_1       A_2       A_3       A_4       A_5  \\\n",
       "0      Aug      0  1.621774  1.739324  1.451617 -0.186583  2.376608  2.295373   \n",
       "1      Aug      0  2.767240  1.079509 -0.723664  1.737466  1.844370  2.059156   \n",
       "2      Aug      0  2.122517  0.713271  2.915116  1.313582  2.152386  0.885216   \n",
       "3      Aug      0  1.802962  3.129745  2.488166  0.917015  2.729987  1.810858   \n",
       "4      Aug      0  0.367035  2.749154  1.558293  1.304794  0.857214  3.152263   \n",
       "..     ...    ...       ...       ...       ...       ...       ...       ...   \n",
       "145    Mar      1 -1.682147 -1.262470 -3.842003 -2.204974 -0.902512  0.520465   \n",
       "146    Mar      1 -1.386700 -1.253194 -1.945290 -3.505696 -1.847696 -0.841383   \n",
       "147    Mar      1  0.296081 -1.919121  0.350761 -1.491252 -1.950832 -2.100143   \n",
       "148    Mar      1 -1.528270 -2.667680 -1.118364 -2.586643 -1.151861 -1.574978   \n",
       "149    Mar      1 -1.371618 -0.545679 -0.614194 -1.011803 -2.576138  0.776330   \n",
       "\n",
       "          A_6       A_7  ...      B_90      B_91      B_92      B_93  \\\n",
       "0    2.722720  1.821542  ...  0.864761  0.134935  0.242494  0.359284   \n",
       "1    2.358058  1.868140  ...  0.030889  0.226631  0.329706  0.826815   \n",
       "2    2.853469  0.424814  ...  0.830995  0.242558  0.841052  0.958406   \n",
       "3    2.108782  0.664469  ...  0.391327  0.153289  0.214403  0.113282   \n",
       "4    1.684176  1.667096  ...  0.029424  0.986045  0.232829  0.953272   \n",
       "..        ...       ...  ...       ...       ...       ...       ...   \n",
       "145 -1.227517 -0.628699  ...  0.509399  0.705261  0.230260  0.958283   \n",
       "146 -1.970503 -2.129677  ...  0.146937  0.603260  0.806180  0.410741   \n",
       "147 -1.230885 -0.888188  ...  0.991078  0.623959  0.127712  0.553945   \n",
       "148 -3.201278 -2.337745  ...  0.080779  0.995426  0.707016  0.680826   \n",
       "149 -0.628203 -1.985767  ...  0.249263  0.054087  0.223984  0.617292   \n",
       "\n",
       "         B_94      B_95      B_96      B_97      B_98      B_99  \n",
       "0    0.003831  0.069875  0.259369  0.244837  0.554309  0.733232  \n",
       "1    0.317215  0.114622  0.588142  0.668808  0.491239  0.572640  \n",
       "2    0.721642  0.753970  0.840054  0.979133  0.357064  0.194532  \n",
       "3    0.563799  0.164133  0.262977  0.387080  0.846162  0.564837  \n",
       "4    0.918123  0.857471  0.303726  0.404233  0.050626  0.203764  \n",
       "..        ...       ...       ...       ...       ...       ...  \n",
       "145  0.673974  0.601420  0.256721  0.232084  0.994775  0.611156  \n",
       "146  0.930247  0.837703  0.330396  0.603705  0.338051  0.464377  \n",
       "147  0.162934  0.777856  0.835434  0.857982  0.725078  0.798173  \n",
       "148  0.738497  0.551783  0.526466  0.421607  0.851696  0.403886  \n",
       "149  0.195724  0.434497  0.583487  0.935615  0.350897  0.310964  \n",
       "\n",
       "[150 rows x 202 columns]"
      ]
     },
     "execution_count": 104,
     "metadata": {},
     "output_type": "execute_result"
    }
   ],
   "source": [
    "# 1) Load your data\n",
    "df = pd.read_csv('../data/mock.tsv', sep='\\t')   # or wherever your file lives\n",
    "df"
   ]
  },
  {
   "cell_type": "code",
   "execution_count": 105,
   "id": "97d9fb9b",
   "metadata": {},
   "outputs": [
    {
     "data": {
      "text/plain": [
       "array(['Aug', 'Jul', 'Mar'], dtype=object)"
      ]
     },
     "execution_count": 105,
     "metadata": {},
     "output_type": "execute_result"
    }
   ],
   "source": [
    "df.Cohort.unique()"
   ]
  },
  {
   "cell_type": "code",
   "execution_count": 106,
   "id": "79988d12",
   "metadata": {},
   "outputs": [
    {
     "name": "stdout",
     "output_type": "stream",
     "text": [
      "Num of sample with Label == 0 is 100\n",
      "Num of sample with Label == 1 is 50\n"
     ]
    }
   ],
   "source": [
    "print(f\"Num of sample with Label == 0 is {sum(df.Label==0)}\")\n",
    "print(f\"Num of sample with Label == 1 is {sum(df.Label==1)}\")"
   ]
  },
  {
   "cell_type": "code",
   "execution_count": 107,
   "id": "a59d450b",
   "metadata": {},
   "outputs": [],
   "source": [
    "# 2) Define feature sets\n",
    "A_feats    = [c for c in df.columns if c.startswith('A_')]\n",
    "B_feats    = [c for c in df.columns if c.startswith('B_')]\n",
    "AB_feats   = A_feats + B_feats\n",
    "cat_feats  = ['Cohort']       # now included as a model input"
   ]
  },
  {
   "cell_type": "code",
   "execution_count": 108,
   "id": "7bc0c831",
   "metadata": {},
   "outputs": [],
   "source": [
    "# 3) Build X/y (include cohort in X)\n",
    "X      = df[AB_feats]\n",
    "y      = df['Label']          # target: 0 or 1\n",
    "groups = df['Cohort']         # you can still use this for GroupKFold if desired"
   ]
  },
  {
   "cell_type": "code",
   "execution_count": 109,
   "id": "72863fdf",
   "metadata": {},
   "outputs": [],
   "source": [
    "# 4) Split off a held-out test set\n",
    "X_train, X_test, y_train, y_test = train_test_split(\n",
    "    X, y,\n",
    "    test_size=0.2,\n",
    "    stratify=y,\n",
    "    random_state=42\n",
    ")"
   ]
  },
  {
   "cell_type": "code",
   "execution_count": 110,
   "id": "d8e90a21",
   "metadata": {},
   "outputs": [],
   "source": [
    "# 5) Preprocessing pipelines\n",
    "numeric_pipe = Pipeline([\n",
    "    ('scaler', StandardScaler())\n",
    "])\n",
    "\n",
    "preprocessor = ColumnTransformer([\n",
    "    ('num', numeric_pipe, AB_feats),\n",
    "])"
   ]
  },
  {
   "cell_type": "code",
   "execution_count": 111,
   "id": "335452b9",
   "metadata": {},
   "outputs": [],
   "source": [
    "# 6) Candidate models (with preprocessing built in)\n",
    "models = {\n",
    "    'LogisticRegression': Pipeline([\n",
    "        ('prep', preprocessor),\n",
    "        ('clf', LogisticRegression(\n",
    "            solver='saga',\n",
    "            penalty='l2',\n",
    "            C=1.0,\n",
    "            max_iter=2000,\n",
    "            n_jobs=-1,\n",
    "            random_state=42\n",
    "        ))\n",
    "    ]),\n",
    "}"
   ]
  },
  {
   "cell_type": "code",
   "execution_count": 112,
   "id": "54572477",
   "metadata": {},
   "outputs": [
    {
     "name": "stdout",
     "output_type": "stream",
     "text": [
      "\n",
      "=== Logistic Regression (abs coef) ===\n",
      "Top A-feature: A_47 coef= 2.4013021779273953\n",
      "Top B-feature: B_5 coef= 0.6029317758099714\n"
     ]
    }
   ],
   "source": [
    "# --- 1) Re-fit simple models on just A/B features (no cohort) ---\n",
    "X_AB = df[AB_feats]      # AB_feats = all your A_/B_ columns\n",
    "y = df['Label']\n",
    "\n",
    "# Logistic Regression (with scaling)\n",
    "scaler = StandardScaler().fit(X_AB)\n",
    "X_scaled = scaler.transform(X_AB)\n",
    "lr = LogisticRegression(solver='saga', penalty='l2', C=1.0, max_iter=2000, random_state=42)\n",
    "lr.fit(X_scaled, y)\n",
    "\n",
    "# --- 2) Extract importances / coefficients ---\n",
    "lr_coef = pd.Series(lr.coef_.flatten(), index=AB_feats).abs()\n",
    "\n",
    "# --- 3) Find top feature in each group ---\n",
    "top_A_lr = lr_coef.filter(like='A_').nlargest(1)\n",
    "top_B_lr = lr_coef.filter(like='B_').nlargest(1)\n",
    "\n",
    "print(\"\\n=== Logistic Regression (abs coef) ===\")\n",
    "print(\"Top A-feature:\", top_A_lr.index[0], \"coef=\", top_A_lr.iloc[0])\n",
    "print(\"Top B-feature:\", top_B_lr.index[0], \"coef=\", top_B_lr.iloc[0])"
   ]
  },
  {
   "cell_type": "code",
   "execution_count": 114,
   "id": "edd34b0a",
   "metadata": {},
   "outputs": [
    {
     "data": {
      "image/png": "[encoded data removed]",
      "text/plain": [
       "<Figure size 600x400 with 1 Axes>"
      ]
     },
     "metadata": {},
     "output_type": "display_data"
    },
    {
     "name": "stderr",
     "output_type": "stream",
     "text": [
      "/var/folders/h0/hyrmq_xj0nz_7j032crdtlrh0000gn/T/ipykernel_97570/301399541.py:23: MatplotlibDeprecationWarning: The 'labels' parameter of boxplot() has been renamed 'tick_labels' since Matplotlib 3.9; support for the old name will be dropped in 3.11.\n",
      "  ax.boxplot([data0, data1], labels=['0','1'])\n"
     ]
    },
    {
     "data": {
      "image/png": "[encoded data removed]",
      "text/plain": [
       "<Figure size 400x400 with 1 Axes>"
      ]
     },
     "metadata": {},
     "output_type": "display_data"
    },
    {
     "data": {
      "image/png": "[encoded data removed]",
      "text/plain": [
       "<Figure size 600x400 with 1 Axes>"
      ]
     },
     "metadata": {},
     "output_type": "display_data"
    },
    {
     "name": "stderr",
     "output_type": "stream",
     "text": [
      "/var/folders/h0/hyrmq_xj0nz_7j032crdtlrh0000gn/T/ipykernel_97570/301399541.py:23: MatplotlibDeprecationWarning: The 'labels' parameter of boxplot() has been renamed 'tick_labels' since Matplotlib 3.9; support for the old name will be dropped in 3.11.\n",
      "  ax.boxplot([data0, data1], labels=['0','1'])\n"
     ]
    },
    {
     "data": {
      "image/png": "[encoded data removed]",
      "text/plain": [
       "<Figure size 400x400 with 1 Axes>"
      ]
     },
     "metadata": {},
     "output_type": "display_data"
    }
   ],
   "source": [
    "import matplotlib.pyplot as plt\n",
    "\n",
    "top_feats = {\n",
    "    'LogisticRegression': {'A': 'A_47', 'B': 'B_5'}\n",
    "}\n",
    "\n",
    "for model, feats in top_feats.items():\n",
    "    for group, feat in feats.items():\n",
    "        # 1) Overlaid histograms\n",
    "        plt.figure(figsize=(6,4))\n",
    "        plt.hist(df.loc[df.Label==0, feat], bins=20, alpha=0.6, label='Label=0')\n",
    "        plt.hist(df.loc[df.Label==1, feat], bins=20, alpha=0.6, label='Label=1')\n",
    "        plt.title(f'{model}: Histogram of {feat} by Label')\n",
    "        plt.xlabel(feat)\n",
    "        plt.ylabel('Count')\n",
    "        plt.legend()\n",
    "        plt.show()\n",
    "\n",
    "        # 2) Side-by-side boxplot\n",
    "        data0 = df.loc[df.Label==0, feat]\n",
    "        data1 = df.loc[df.Label==1, feat]\n",
    "        fig, ax = plt.subplots(figsize=(4,4))\n",
    "        ax.boxplot([data0, data1], labels=['0','1'])\n",
    "        ax.set_title(f'{model}: Boxplot of {feat} by Label')\n",
    "        ax.set_ylabel(feat)\n",
    "        plt.show()"
   ]
  },
  {
   "cell_type": "code",
   "execution_count": 72,
   "id": "0ef505a3",
   "metadata": {},
   "outputs": [
    {
     "data": {
      "image/png": "[encoded data removed]",
      "text/plain": [
       "<Figure size 800x400 with 1 Axes>"
      ]
     },
     "metadata": {},
     "output_type": "display_data"
    }
   ],
   "source": [
    "import matplotlib.pyplot as plt\n",
    "import seaborn as sns\n",
    "\n",
    "plt.figure(figsize=(8,4))\n",
    "sns.boxplot(x='Cohort', y='A_47', data=df, order=sorted(df['Cohort'].unique()))\n",
    "plt.title('Distribution of A_47 by Cohort')\n",
    "plt.show()\n"
   ]
  },
  {
   "cell_type": "code",
   "execution_count": 75,
   "id": "5d45d70e",
   "metadata": {},
   "outputs": [
    {
     "name": "stdout",
     "output_type": "stream",
     "text": [
      "Classification Report:\n",
      "               precision    recall  f1-score   support\n",
      "\n",
      "           0       0.81      0.85      0.83        20\n",
      "           1       0.67      0.60      0.63        10\n",
      "\n",
      "    accuracy                           0.77        30\n",
      "   macro avg       0.74      0.72      0.73        30\n",
      "weighted avg       0.76      0.77      0.76        30\n",
      "\n",
      "Test AUC-ROC: 0.8800000000000001\n"
     ]
    }
   ],
   "source": [
    "import pandas as pd\n",
    "\n",
    "# 1) Suppose df already has your AB_feats list and ‘Cohort’\n",
    "AB_feats = [c for c in df.columns if c.startswith('A_') or c.startswith('B_')]\n",
    "\n",
    "# 2) Apply group‐wise scaling: (x - mean_of_cohort) / std_of_cohort\n",
    "df_scaled = df.copy()\n",
    "df_scaled[AB_feats] = (\n",
    "    df_scaled\n",
    "      .groupby('Cohort')[AB_feats]\n",
    "      .transform(lambda x: (x - x.mean()) / x.std(ddof=0))\n",
    ")\n",
    "\n",
    "# 3) Now df_scaled[AB_feats] contains cohort-normalized values.\n",
    "#    You can drop ‘Cohort’ (or still encode it) and train on df_scaled:\n",
    "\n",
    "from sklearn.model_selection import train_test_split\n",
    "from sklearn.pipeline import Pipeline\n",
    "from sklearn.preprocessing import StandardScaler  # optional: further global scaling\n",
    "from sklearn.linear_model import LogisticRegression\n",
    "from sklearn.metrics import roc_auc_score, classification_report\n",
    "\n",
    "X = df_scaled[AB_feats]     # cohort effects removed\n",
    "y = df_scaled['Label']\n",
    "\n",
    "X_train, X_test, y_train, y_test = train_test_split(\n",
    "    X, y, test_size=0.2, stratify=y, random_state=42\n",
    ")\n",
    "\n",
    "pipe = Pipeline([\n",
    "    # Optional: a second, global scaler if you like:\n",
    "    ('global_scale', StandardScaler()),\n",
    "    ('clf', LogisticRegression(solver='saga', max_iter=2000, random_state=42))\n",
    "])\n",
    "pipe.fit(X_train, y_train)\n",
    "\n",
    "y_pred  = pipe.predict(X_test)\n",
    "y_proba = pipe.predict_proba(X_test)[:,1]\n",
    "\n",
    "print(\"Classification Report:\\n\", classification_report(y_test, y_pred))\n",
    "print(\"Test AUC-ROC:\", roc_auc_score(y_test, y_proba))\n"
   ]
  },
  {
   "cell_type": "code",
   "execution_count": 76,
   "id": "82d405c2",
   "metadata": {},
   "outputs": [
    {
     "name": "stdout",
     "output_type": "stream",
     "text": [
      "Top A feature: A_47 → AUC = 0.985\n",
      "Top B feature: B_41 → AUC = 0.614\n"
     ]
    }
   ],
   "source": [
    "import pandas as pd\n",
    "from sklearn.metrics import roc_auc_score\n",
    "\n",
    "# 1) Work on your cohort-scaled DataFrame:\n",
    "#    df_scaled[AB_feats] already has (x - μ_cohort)/σ_cohort\n",
    "X = df_scaled[AB_feats]\n",
    "y = df_scaled['Label']\n",
    "\n",
    "# 2) Compute AUC for each feature individually\n",
    "feature_aucs = {}\n",
    "for feat in AB_feats:\n",
    "    # roc_auc_score will treat feat as a “score” for Label=1\n",
    "    feature_aucs[feat] = roc_auc_score(y, X[feat])\n",
    "\n",
    "# 3) Split into A_ and B_ lists and pick the top\n",
    "A_auc = {f: feature_aucs[f] for f in A_feats}\n",
    "B_auc = {f: feature_aucs[f] for f in B_feats}\n",
    "\n",
    "top_A = max(A_auc, key=A_auc.get)\n",
    "top_B = max(B_auc, key=B_auc.get)\n",
    "\n",
    "print(f\"Top A feature: {top_A} → AUC = {A_auc[top_A]:.3f}\")\n",
    "print(f\"Top B feature: {top_B} → AUC = {B_auc[top_B]:.3f}\")\n"
   ]
  },
  {
   "cell_type": "code",
   "execution_count": 77,
   "id": "70bc6470",
   "metadata": {},
   "outputs": [
    {
     "data": {
      "image/png": "[encoded data removed]",
      "text/plain": [
       "<Figure size 600x300 with 1 Axes>"
      ]
     },
     "metadata": {},
     "output_type": "display_data"
    },
    {
     "data": {
      "image/png": "[encoded data removed]",
      "text/plain": [
       "<Figure size 600x300 with 1 Axes>"
      ]
     },
     "metadata": {},
     "output_type": "display_data"
    }
   ],
   "source": [
    "import matplotlib.pyplot as plt\n",
    "\n",
    "for feat, auc in [('A_47', 0.985), ('B_41', 0.614)]:\n",
    "    plt.figure(figsize=(6,3))\n",
    "    plt.hist(df_scaled.loc[df_scaled.Label==0, feat], bins=20, alpha=0.5, label='0')\n",
    "    plt.hist(df_scaled.loc[df_scaled.Label==1, feat], bins=20, alpha=0.5, label='1')\n",
    "    plt.title(f'{feat} (AUC={auc:.3f})')\n",
    "    plt.xlabel(feat); plt.ylabel('Count'); plt.legend()\n",
    "    plt.show()\n"
   ]
  },
  {
   "cell_type": "code",
   "execution_count": 80,
   "id": "2269bb7c",
   "metadata": {},
   "outputs": [
    {
     "name": "stdout",
     "output_type": "stream",
     "text": [
      "Classification Report:\n",
      "               precision    recall  f1-score   support\n",
      "\n",
      "           0       0.95      0.95      0.95        20\n",
      "           1       0.90      0.90      0.90        10\n",
      "\n",
      "    accuracy                           0.93        30\n",
      "   macro avg       0.93      0.93      0.93        30\n",
      "weighted avg       0.93      0.93      0.93        30\n",
      "\n",
      "Test AUC-ROC: 0.98\n"
     ]
    }
   ],
   "source": [
    "# Assume df_scaled already has (x - mean_cohort)/std_cohort for A_47\n",
    "X = df_scaled[['A_47']]\n",
    "y = df_scaled['Label']\n",
    "\n",
    "# 1) Hold out a test set\n",
    "X_train, X_test, y_train, y_test = train_test_split(\n",
    "    X, y,\n",
    "    test_size=0.2,\n",
    "    stratify=y,\n",
    "    random_state=42\n",
    ")\n",
    "\n",
    "# 2) Fit Logistic Regression\n",
    "clf = LogisticRegression(\n",
    "    solver='liblinear',   # fine for 1D\n",
    "    random_state=42\n",
    ").fit(X_train, y_train)\n",
    "\n",
    "# 3) Predict & Evaluate\n",
    "y_pred  = clf.predict(X_test)\n",
    "y_proba = clf.predict_proba(X_test)[:,1]\n",
    "\n",
    "print(\"Classification Report:\\n\", classification_report(y_test, y_pred))\n",
    "print(\"Test AUC-ROC:\", roc_auc_score(y_test, y_proba))"
   ]
  },
  {
   "cell_type": "code",
   "execution_count": 81,
   "id": "8896d3fc",
   "metadata": {},
   "outputs": [
    {
     "name": "stdout",
     "output_type": "stream",
     "text": [
      "Classification Report:\n",
      "               precision    recall  f1-score   support\n",
      "\n",
      "           0       0.95      0.95      0.95        20\n",
      "           1       0.90      0.90      0.90        10\n",
      "\n",
      "    accuracy                           0.93        30\n",
      "   macro avg       0.93      0.93      0.93        30\n",
      "weighted avg       0.93      0.93      0.93        30\n",
      "\n",
      "Test AUC-ROC: 0.98\n"
     ]
    }
   ],
   "source": [
    "# Assume df_scaled already has (x - mean_cohort)/std_cohort for A_47\n",
    "X = df_scaled[['A_47']]\n",
    "y = df_scaled['Label']\n",
    "\n",
    "# 1) Hold out a test set\n",
    "X_train, X_test, y_train, y_test = train_test_split(\n",
    "    X, y,\n",
    "    test_size=0.2,\n",
    "    stratify=y,\n",
    "    random_state=42\n",
    ")\n",
    "\n",
    "# 2) Fit Logistic Regression\n",
    "clf = LogisticRegression(\n",
    "    solver='liblinear',   # fine for 1D\n",
    "    random_state=42\n",
    ").fit(X_train, y_train)\n",
    "\n",
    "# 3) Predict & Evaluate\n",
    "y_pred  = clf.predict(X_test)\n",
    "y_proba = clf.predict_proba(X_test)[:,1]\n",
    "\n",
    "print(\"Classification Report:\\n\", classification_report(y_test, y_pred))\n",
    "print(\"Test AUC-ROC:\", roc_auc_score(y_test, y_proba))"
   ]
  },
  {
   "cell_type": "code",
   "execution_count": 82,
   "id": "ba01a88b",
   "metadata": {},
   "outputs": [
    {
     "data": {
      "image/png": "[encoded data removed]",
      "text/plain": [
       "<Figure size 600x400 with 1 Axes>"
      ]
     },
     "metadata": {},
     "output_type": "display_data"
    }
   ],
   "source": [
    "import numpy as np\n",
    "import matplotlib.pyplot as plt\n",
    "\n",
    "# 1) Extract x and y\n",
    "x = df_scaled['A_47']\n",
    "y = df_scaled['Label']\n",
    "\n",
    "# 2) Add a bit of jitter on y so 0’s and 1’s don’t fully overlap\n",
    "y_jitter = y + np.random.uniform(-0.03, 0.03, size=len(y))\n",
    "\n",
    "# 3) Scatter plot\n",
    "plt.figure(figsize=(6,4))\n",
    "plt.scatter(x, y_jitter, alpha=0.6, edgecolor='w', s=50)\n",
    "plt.yticks([0,1])\n",
    "plt.xlabel('A_47 (cohort-normalized)')\n",
    "plt.ylabel('Label')\n",
    "plt.title('Scatter of A_47 vs. Label')\n",
    "plt.grid(axis='x', linestyle='--', alpha=0.5)\n",
    "plt.show()\n"
   ]
  },
  {
   "cell_type": "code",
   "execution_count": null,
   "id": "abcc5d5f",
   "metadata": {},
   "outputs": [],
   "source": []
  }
 ],
 "metadata": {
  "kernelspec": {
   "display_name": "bio-ml",
   "language": "python",
   "name": "python3"
  },
  "language_info": {
   "codemirror_mode": {
    "name": "ipython",
    "version": 3
   },
   "file_extension": ".py",
   "mimetype": "text/x-python",
   "name": "python",
   "nbconvert_exporter": "python",
   "pygments_lexer": "ipython3",
   "version": "3.9.19"
  }
 },
 "nbformat": 4,
 "nbformat_minor": 5
}
